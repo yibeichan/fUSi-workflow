{
 "cells": [
  {
   "cell_type": "code",
   "execution_count": 1,
   "metadata": {},
   "outputs": [],
   "source": [
    "import os\n",
    "import subprocess\n",
    "\n",
    "from dotenv import load_dotenv\n",
    "import numpy as np\n",
    "import pandas as pd\n",
    "import nibabel as nib\n",
    "from scipy.ndimage import zoom\n",
    "\n",
    "import matplotlib.pyplot as plt\n",
    "import seaborn as sns"
   ]
  },
  {
   "cell_type": "code",
   "execution_count": 2,
   "metadata": {},
   "outputs": [],
   "source": [
    "load_dotenv()\n",
    "base_dir = os.getenv('BASE_DIR')\n",
    "ct_dir = os.path.join(base_dir, 'microCT')"
   ]
  },
  {
   "cell_type": "code",
   "execution_count": 3,
   "metadata": {},
   "outputs": [],
   "source": [
    "ct_skull_path = os.path.join(ct_dir, 'MASK_Marmoset1_skull_200micron.nii.gz')\n",
    "ct_brain_path = os.path.join(ct_dir, 'MASK_Marmosete_brain_B_200micron.nii.gz')"
   ]
  },
  {
   "cell_type": "code",
   "execution_count": 5,
   "metadata": {},
   "outputs": [
    {
     "name": "stdout",
     "output_type": "stream",
     "text": [
      "WARNING:: Flipping Left/Right orientation (as det < 0)\n"
     ]
    }
   ],
   "source": [
    "os.chdir(ct_dir)\n",
    "\n",
    "!fslswapdim MASK_Marmosete_brain_B_200micron.nii.gz x y -z MASK_Marmosete_brain_B_200micron_fixed.nii.gz\n",
    "# ct_brain has no sphinxified label so we need to manually fix the orientation (S and A are flipped)\n"
   ]
  },
  {
   "cell_type": "code",
   "execution_count": 7,
   "metadata": {},
   "outputs": [
    {
     "name": "stdout",
     "output_type": "stream",
     "text": [
      "<nifti_image\n",
      "  image_offset = '352'\n",
      "  ndim = '3'\n",
      "  nx = '133'\n",
      "  ny = '113'\n",
      "  nz = '189'\n",
      "  nt = '1'\n",
      "  dx = '1'\n",
      "  dy = '1'\n",
      "  dz = '1'\n",
      "  dt = '0'\n",
      "  datatype = '2'\n",
      "  nvox = '2840481'\n",
      "  nbyper = '1'\n",
      "  scl_slope = '1'\n",
      "  scl_inter = '0'\n",
      "  intent_code = '0'\n",
      "  intent_p1 = '0'\n",
      "  intent_p2 = '0'\n",
      "  intent_p3 = '0'\n",
      "  intent_name = ''\n",
      "  toffset = '0'\n",
      "  xyz_units = '2'\n",
      "  time_units = '0'\n",
      "  freq_dim = '0'\n",
      "  phase_dim = '0'\n",
      "  slice_dim = '0'\n",
      "  descrip = ''\n",
      "  aux_file = ''\n",
      "  qform_code = '1'\n",
      "  qfac = '1'\n",
      "  quatern_b = '-0.705456'\n",
      "  quatern_c = '-0.00534025'\n",
      "  quatern_d = '-0.0297728'\n",
      "  qoffset_x = '-11.2058'\n",
      "  qoffset_y = '-97.0867'\n",
      "  qoffset_z = '135.769'\n",
      "  sform_code = '1'\n",
      "  sto_xyz_matrix = '0.99817 0.0496993 0.0344439 -11.2058 -0.0346301 0.0028896 0.999396 -97.0867 0.0495698 -0.99876 0.0046054 135.769 0 0 0 1'\n",
      "  slice_code = '0'\n",
      "  slice_start = '0'\n",
      "  scl_end = '0'\n",
      "  scl_duration = '0'\n",
      "/>\n"
     ]
    }
   ],
   "source": [
    "!fslhd -x MASK_Marmosete_brain_B_200micron_reoriented.nii.gz\n"
   ]
  },
  {
   "cell_type": "code",
   "execution_count": null,
   "metadata": {},
   "outputs": [],
   "source": []
  }
 ],
 "metadata": {
  "kernelspec": {
   "display_name": "Python 3",
   "language": "python",
   "name": "python3"
  },
  "language_info": {
   "codemirror_mode": {
    "name": "ipython",
    "version": 3
   },
   "file_extension": ".py",
   "mimetype": "text/x-python",
   "name": "python",
   "nbconvert_exporter": "python",
   "pygments_lexer": "ipython3",
   "version": "3.10.14"
  }
 },
 "nbformat": 4,
 "nbformat_minor": 2
}
