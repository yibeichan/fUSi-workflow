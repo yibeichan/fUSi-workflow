{
 "cells": [
  {
   "cell_type": "code",
   "execution_count": 1,
   "metadata": {},
   "outputs": [],
   "source": [
    "import os\n",
    "from dotenv import load_dotenv\n",
    "import nibabel as nib\n",
    "from nibabel.orientations import aff2axcodes\n",
    "import h5py\n",
    "import pandas as pd\n",
    "import numpy as np\n",
    "from tqdm import tqdm\n",
    "\n",
    "from utils.registration import nifit_info, correct4registration, slice2chunk_align\n",
    "from utils.preproc import FUSCleaner\n",
    "\n",
    "from utils.glm import run_glm_analysis\n",
    "from nilearn.glm.contrasts import compute_contrast\n",
    "from scipy.ndimage import affine_transform\n",
    "import SimpleITK as sitk\n",
    "\n",
    "import seaborn as sns\n",
    "import matplotlib.pyplot as plt\n",
    "from matplotlib.colors import ListedColormap\n",
    "\n",
    "from joblib import Parallel, delayed"
   ]
  },
  {
   "cell_type": "code",
   "execution_count": 2,
   "metadata": {},
   "outputs": [],
   "source": [
    "load_dotenv()\n",
    "base_dir = os.getenv('BASE_DIR')\n",
    "task_dir = os.path.join(base_dir, 'task_data')\n",
    "register_dir = os.path.join(base_dir, 'slice2chunk_grouper', '061824_1-5')\n",
    "register_dir2 = os.path.join(base_dir, 'slice2chunk_grouper', '060324_8-5')\n",
    "figure_dir = os.path.join(base_dir, 'figures')\n",
    "\n",
    "os.makedirs(figure_dir, exist_ok=True)"
   ]
  },
  {
   "cell_type": "code",
   "execution_count": 3,
   "metadata": {},
   "outputs": [],
   "source": [
    "def transform_affine(affine_matrix):\n",
    "    # Make a copy to avoid modifying the original matrix\n",
    "    transformed_matrix = affine_matrix.copy()\n",
    "    \n",
    "    # Flip the signs of the first and third diagonal elements\n",
    "    transformed_matrix[0, 0] = -affine_matrix[0, 0]\n",
    "    transformed_matrix[2, 2] = -affine_matrix[2, 2]\n",
    "    \n",
    "    # Set the translation components (last column) to 0\n",
    "    transformed_matrix[0, 3] = 0\n",
    "    transformed_matrix[2, 3] = 0\n",
    "    \n",
    "    return transformed_matrix"
   ]
  },
  {
   "cell_type": "code",
   "execution_count": 5,
   "metadata": {},
   "outputs": [
    {
     "name": "stderr",
     "output_type": "stream",
     "text": [
      "pixdim[1,2,3] should be positive; setting to abs of pixdim values\n"
     ]
    },
    {
     "data": {
      "text/plain": [
       "(('L', 'A', 'S'), ('R', 'A', 'I'))"
      ]
     },
     "execution_count": 5,
     "metadata": {},
     "output_type": "execute_result"
    }
   ],
   "source": [
    "raw_file = os.path.join(task_dir, 'Grouper_audiocue_060324_2D.nii')\n",
    "raw_file2 = os.path.join(task_dir, 'Grouper_audiocue_060324_2D.nii.gz')\n",
    "\n",
    "raw_image = nib.load(raw_file)\n",
    "raw_image2 = nib.load(raw_file2)\n",
    "\n",
    "aff2axcodes(raw_image.affine), aff2axcodes(raw_image2.affine)"
   ]
  },
  {
   "cell_type": "code",
   "execution_count": 6,
   "metadata": {},
   "outputs": [],
   "source": [
    "def load_nifti_image(file_path: str):\n",
    "    \"\"\"Loads a NIfTI image and returns its data array and affine matrix.\"\"\"\n",
    "    img = nib.load(file_path)\n",
    "    data = img.get_fdata()\n",
    "    affine = img.affine\n",
    "    return data, affine, img.header\n",
    "\n",
    "\n",
    "def process_and_save_image(first_img_path: str, second_img_path: str, output_path: str):\n",
    "    \"\"\"Loads the images, applies affine corrections, flips the data, and saves the corrected image.\"\"\"\n",
    "    # Load the first image (4D) and the second image (corrected slice)\n",
    "    first_data, _, _ = load_nifti_image(first_img_path)\n",
    "    _, second_affine, second_header = load_nifti_image(second_img_path)\n",
    "\n",
    "    corrected_affine = second_affine.copy()\n",
    "    corrected_affine[[0, 1]] = corrected_affine[[1, 0]]\n",
    "\n",
    "    print(\"Corrected Affine:\\n\", corrected_affine)\n",
    "    print(aff2axcodes(corrected_affine))\n",
    "    \n",
    "    # reflect z to be positive\n",
    "    transform_matrix = np.array([[1, 0, 0, 0],\n",
    "                                [0, 1, 0, 0],\n",
    "                                [0, 0, -1, 0],\n",
    "                                [0, 0, 0, 1]])\n",
    "\n",
    "    transformed_affine = corrected_affine @ transform_matrix\n",
    "\n",
    "    print(transformed_affine)\n",
    "\n",
    "    flipped_data = np.flip(first_data, axis=2)\n",
    "\n",
    "    new_img = nib.Nifti1Image(flipped_data, transformed_affine, second_header)\n",
    "\n",
    "    nib.save(new_img, output_path)\n",
    "    print(f\"Corrected image saved to {output_path}\")"
   ]
  },
  {
   "cell_type": "code",
   "execution_count": 7,
   "metadata": {},
   "outputs": [
    {
     "name": "stderr",
     "output_type": "stream",
     "text": [
      "pixdim[1,2,3] should be positive; setting to abs of pixdim values\n"
     ]
    },
    {
     "name": "stdout",
     "output_type": "stream",
     "text": [
      "Corrected Affine:\n",
      " [[ 0.          0.40000001  0.         -0.        ]\n",
      " [ 0.11        0.          0.         -0.        ]\n",
      " [ 0.          0.         -0.09856     0.        ]\n",
      " [ 0.          0.          0.          1.        ]]\n",
      "('A', 'R', 'I')\n",
      "[[0.         0.40000001 0.         0.        ]\n",
      " [0.11       0.         0.         0.        ]\n",
      " [0.         0.         0.09856    0.        ]\n",
      " [0.         0.         0.         1.        ]]\n",
      "Corrected image saved to /Users/yibeichen/Desktop/fusi/slice2chunk_grouper/060324_8-5/Grouper_audiocue_060324_2D_timepoints_corrected.nii.gz\n"
     ]
    }
   ],
   "source": [
    "# correct 2D x timepoints for later analysis\n",
    "output_path = os.path.join(register_dir2, 'Grouper_audiocue_060324_2D_timepoints_corrected.nii.gz')\n",
    "process_and_save_image(raw_file, raw_file2, output_path)"
   ]
  },
  {
   "cell_type": "code",
   "execution_count": 8,
   "metadata": {},
   "outputs": [
    {
     "data": {
      "text/plain": [
       "(147, 200, 135)"
      ]
     },
     "execution_count": 8,
     "metadata": {},
     "output_type": "execute_result"
    }
   ],
   "source": [
    "file = os.path.join(register_dir2, 'Grouper_audiocue_060324_corrected-transformed.nii.gz')\n",
    "img = nib.load(file).get_fdata()\n",
    "img.shape"
   ]
  },
  {
   "cell_type": "code",
   "execution_count": 13,
   "metadata": {},
   "outputs": [
    {
     "data": {
      "image/png": "[encoded data removed]",
      "text/plain": [
       "<Figure size 640x480 with 1 Axes>"
      ]
     },
     "metadata": {},
     "output_type": "display_data"
    }
   ],
   "source": [
    "plt.imshow(np.rot90(img[89,:,:]))\n",
    "plt.show()"
   ]
  },
  {
   "cell_type": "code",
   "execution_count": null,
   "metadata": {},
   "outputs": [],
   "source": []
  }
 ],
 "metadata": {
  "kernelspec": {
   "display_name": "Python 3",
   "language": "python",
   "name": "python3"
  },
  "language_info": {
   "codemirror_mode": {
    "name": "ipython",
    "version": 3
   },
   "file_extension": ".py",
   "mimetype": "text/x-python",
   "name": "python",
   "nbconvert_exporter": "python",
   "pygments_lexer": "ipython3",
   "version": "3.10.14"
  }
 },
 "nbformat": 4,
 "nbformat_minor": 2
}
