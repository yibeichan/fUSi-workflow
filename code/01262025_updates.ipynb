{
 "cells": [
  {
   "cell_type": "code",
   "execution_count": 2,
   "metadata": {},
   "outputs": [],
   "source": [
    "import os\n",
    "import glob\n",
    "from dotenv import load_dotenv\n",
    "import nibabel as nib\n",
    "from nibabel.orientations import aff2axcodes\n",
    "import h5py\n",
    "import pandas as pd\n",
    "import numpy as np\n",
    "import scipy.io as sio\n",
    "from tqdm import tqdm\n",
    "\n",
    "from utils.registration import nifti_info, correct4registration, slice2chunk_align\n",
    "from utils.preproc import FUSCleaner\n",
    "\n",
    "from utils.glm import run_glm_analysis\n",
    "from nilearn.glm.contrasts import compute_contrast\n",
    "from scipy.ndimage import affine_transform\n",
    "import SimpleITK as sitk\n",
    "\n",
    "import seaborn as sns\n",
    "import matplotlib.pyplot as plt\n",
    "from matplotlib.colors import ListedColormap\n",
    "\n",
    "from joblib import Parallel, delayed"
   ]
  },
  {
   "cell_type": "code",
   "execution_count": 3,
   "metadata": {},
   "outputs": [],
   "source": [
    "load_dotenv()\n",
    "base_dir = os.getenv('BASE_DIR')\n",
    "task_dir = os.path.join(base_dir, 'task_data')\n",
    "data_dir = os.path.join(task_dir, 'video_live_social')\n",
    "videosocial2d_dir = os.path.join(data_dir, '20241128_videosocial_2d')\n",
    "videosocial3d_dir = os.path.join(data_dir, '20241201_videosocial_3d')\n",
    "livesocial2d_dir = os.path.join(data_dir, '20241130_livesocial_2d')\n",
    "livesocial3d_dir = os.path.join(data_dir, '20241202_livesocial_3d')"
   ]
  },
  {
   "cell_type": "code",
   "execution_count": 12,
   "metadata": {},
   "outputs": [
    {
     "name": "stderr",
     "output_type": "stream",
     "text": [
      "pixdim[1,2,3] should be positive; setting to abs of pixdim values\n"
     ]
    },
    {
     "name": "stdout",
     "output_type": "stream",
     "text": [
      "(128, 1, 143, 9000)\n",
      "(204,)\n"
     ]
    }
   ],
   "source": [
    "dir = videosocial2d_dir\n",
    "brain_data = nib.load(glob.glob(os.path.join(dir, '*.nii'))[0])\n",
    "print(brain_data.shape)\n",
    "event_file = glob.glob(os.path.join(dir, '*.mat'))[0]\n",
    "event_mat = sio.loadmat(event_file)['mldata'][0][0][0]\n",
    "print(event_mat.shape)"
   ]
  },
  {
   "cell_type": "code",
   "execution_count": 4,
   "metadata": {},
   "outputs": [
    {
     "name": "stdout",
     "output_type": "stream",
     "text": [
      "Corrected Affine:\n",
      " [[  0.           0.2         -0.          -0.        ]\n",
      " [  0.11         0.          -0.          -0.        ]\n",
      " [  0.           0.           0.09856    -13.99551964]\n",
      " [  0.           0.           0.           1.        ]]\n",
      "('A', 'R', 'S')\n",
      "[[  0.           0.2          0.           0.        ]\n",
      " [  0.11         0.           0.           0.        ]\n",
      " [  0.           0.          -0.09856    -13.99551964]\n",
      " [  0.           0.           0.           1.        ]]\n"
     ]
    },
    {
     "data": {
      "text/plain": [
       "(<function utils.registration.nifti_info(file)>,\n",
       " ((128, 26, 143),\n",
       "  array([[  0.        ,   0.2       ,   0.        ,   0.        ],\n",
       "         [  0.11      ,   0.        ,   0.        ,   0.        ],\n",
       "         [  0.        ,   0.        ,  -0.09856   , -13.99551964],\n",
       "         [  0.        ,   0.        ,   0.        ,   1.        ]]),\n",
       "  ('A', 'R', 'I')))"
      ]
     },
     "execution_count": 4,
     "metadata": {},
     "output_type": "execute_result"
    }
   ],
   "source": [
    "infile = os.path.join(livesocial3d_dir, 'zion_angio_3d.nii.gz')\n",
    "outfile = os.path.join(livesocial3d_dir, 'zion_angio_3d_corrected.nii.gz')\n",
    "correct4registration(infile, outfile)\n",
    "nifti_info, nifti_info(outfile)"
   ]
  },
  {
   "cell_type": "code",
   "execution_count": null,
   "metadata": {},
   "outputs": [],
   "source": []
  },
  {
   "cell_type": "code",
   "execution_count": 17,
   "metadata": {},
   "outputs": [
    {
     "name": "stderr",
     "output_type": "stream",
     "text": [
      "pixdim[1,2,3] should be positive; setting to abs of pixdim values\n"
     ]
    },
    {
     "data": {
      "text/plain": [
       "((128, 26, 143),\n",
       " array([[-0.11      ,  0.        ,  0.        ,  6.98499996],\n",
       "        [ 0.        ,  0.2       ,  0.        , -2.50000004],\n",
       "        [ 0.        ,  0.        ,  0.09856   , -6.99775986],\n",
       "        [ 0.        ,  0.        ,  0.        ,  1.        ]]),\n",
       " ('L', 'A', 'S'))"
      ]
     },
     "execution_count": 17,
     "metadata": {},
     "output_type": "execute_result"
    }
   ],
   "source": [
    "file = os.path.join(livesocial3d_dir, 'zion_angio_3d.nii')\n",
    "img = nib.load(file)\n",
    "data = img.get_fdata()\n",
    "\n",
    "data.shape,img.affine, aff2axcodes(img.affine)"
   ]
  },
  {
   "cell_type": "code",
   "execution_count": 18,
   "metadata": {},
   "outputs": [
    {
     "data": {
      "text/plain": [
       "((128, 26, 143),\n",
       " array([[  0.11      ,   0.        ,  -0.        ,  -0.        ],\n",
       "        [  0.        ,   0.2       ,  -0.        ,  -0.        ],\n",
       "        [  0.        ,   0.        ,   0.09856   , -13.99551964],\n",
       "        [  0.        ,   0.        ,   0.        ,   1.        ]]),\n",
       " ('R', 'A', 'S'))"
      ]
     },
     "execution_count": 18,
     "metadata": {},
     "output_type": "execute_result"
    }
   ],
   "source": [
    "file = os.path.join(livesocial3d_dir, 'zion_angio_3d.nii.gz')\n",
    "img = nib.load(file)\n",
    "data = img.get_fdata()\n",
    "\n",
    "data.shape,img.affine, aff2axcodes(img.affine)"
   ]
  },
  {
   "cell_type": "code",
   "execution_count": 19,
   "metadata": {},
   "outputs": [
    {
     "name": "stdout",
     "output_type": "stream",
     "text": [
      "(128, 26, 143)\n",
      "[[  0.11         0.           0.           0.        ]\n",
      " [  0.           0.2          0.           0.        ]\n",
      " [  0.           0.          -0.09856    -13.99551964]\n",
      " [  0.           0.           0.           1.        ]]\n"
     ]
    }
   ],
   "source": [
    "file = os.path.join(livesocial3d_dir, 'zion_angio_3d.nii.gz')\n",
    "img = nib.load(file)\n",
    "data = img.get_fdata()\n",
    "\n",
    "print(data.shape)\n",
    "\n",
    "affine = img.affine\n",
    "\n",
    "# Create a transformation matrix to swap x and y axes in the affine matrix\n",
    "# This involves swapping the first and second columns of the affine matrix\n",
    "transform_matrix = np.array([[1, 0, 0, 0],\n",
    "                            [0, 1, 0, 0],\n",
    "                            [0, 0, -1, 0],\n",
    "                            [0, 0, 0, 1]])\n",
    "\n",
    "transformed_affine = affine @ transform_matrix\n",
    "print(transformed_affine) \n",
    "\n",
    "flipped_data = np.flip(data, axis=2)\n",
    "\n",
    "new_img = nib.Nifti1Image(flipped_data, transformed_affine, img.header)\n",
    "\n",
    "output_file = os.path.join(livesocial3d_dir, 'zion_angio_3d_corrected.nii.gz')\n",
    "nib.save(new_img, output_file)"
   ]
  },
  {
   "cell_type": "code",
   "execution_count": null,
   "metadata": {},
   "outputs": [],
   "source": []
  }
 ],
 "metadata": {
  "kernelspec": {
   "display_name": "Python 3",
   "language": "python",
   "name": "python3"
  },
  "language_info": {
   "codemirror_mode": {
    "name": "ipython",
    "version": 3
   },
   "file_extension": ".py",
   "mimetype": "text/x-python",
   "name": "python",
   "nbconvert_exporter": "python",
   "pygments_lexer": "ipython3",
   "version": "3.10.14"
  }
 },
 "nbformat": 4,
 "nbformat_minor": 2
}
