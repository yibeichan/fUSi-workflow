{
 "cells": [
  {
   "cell_type": "code",
   "execution_count": 8,
   "metadata": {},
   "outputs": [],
   "source": [
    "import sys\n",
    "import argparse\n",
    "\n",
    "import neuroglancer\n",
    "import neuroglancer.cli\n",
    "import numpy as np\n",
    "import nibabel as nib"
   ]
  },
  {
   "cell_type": "code",
   "execution_count": 10,
   "metadata": {},
   "outputs": [
    {
     "name": "stderr",
     "output_type": "stream",
     "text": [
      "pixdim[1,2,3] should be positive; setting to abs of pixdim values\n",
      "Level 35:nibabel.global:pixdim[1,2,3] should be positive; setting to abs of pixdim values\n"
     ]
    },
    {
     "name": "stdout",
     "output_type": "stream",
     "text": [
      "Shape of the data from ../data/angio.nii.gz: (147, 200, 135)\n",
      "Affine of the data from ../data/angio.nii.gz:\n",
      "[[  0.2         -0.          -0.         -14.60000038]\n",
      " [ -0.           0.2         -0.         -14.40000057]\n",
      " [  0.           0.           0.2         -3.60000014]\n",
      " [  0.           0.           0.           1.        ]]\n",
      "Shape of the data from ../data/fusi.nii: (192, 151, 173)\n",
      "Affine of the data from ../data/fusi.nii:\n",
      "[[ -0.11         0.           0.          10.50499994]\n",
      " [  0.           0.2          0.         -15.00000022]\n",
      " [  0.           0.           0.09856     -8.47615983]\n",
      " [  0.           0.           0.           1.        ]]\n"
     ]
    }
   ],
   "source": [
    "def read_nifti_file(file_path):\n",
    "    nifti = nib.load(file_path)\n",
    "    data = nifti.get_fdata()\n",
    "    affine = nifti.affine\n",
    "    print(f\"Shape of the data from {file_path}: {data.shape}\")\n",
    "    print(f\"Affine of the data from {file_path}:\\n{affine}\")\n",
    "    return data, affine\n",
    "\n",
    "# Paths to your NIfTI files\n",
    "angio_file = '../data/angio.nii.gz'\n",
    "fusi_file = '../data/fusi.nii'\n",
    "\n",
    "data1, affine1 = read_nifti_file(angio_file)\n",
    "data2, affine2 = read_nifti_file(fusi_file)\n"
   ]
  },
  {
   "cell_type": "code",
   "execution_count": 13,
   "metadata": {},
   "outputs": [
    {
     "name": "stdout",
     "output_type": "stream",
     "text": [
      "Scales: [0.20000000298023224, 0.20000000298023224, 0.20000000298023224]\n",
      "Scales: [0.10999999940395355, 0.20000000298023224, 0.09855999797582626]\n"
     ]
    }
   ],
   "source": [
    "def create_coordinate_space(affine):\n",
    "    scales = np.sqrt((affine[:3, :3] ** 2).sum(axis=0))\n",
    "    scales = np.abs(scales).tolist()\n",
    "    print(f\"Scales: {scales}\")\n",
    "    return neuroglancer.CoordinateSpace(\n",
    "        names=[\"x\", \"y\", \"z\"],\n",
    "        units=[\"mm\", \"mm\", \"mm\"],\n",
    "        scales=scales\n",
    "    )\n",
    "\n",
    "dimensions1 = create_coordinate_space(affine1)\n",
    "dimensions2 = create_coordinate_space(affine2)"
   ]
  },
  {
   "cell_type": "code",
   "execution_count": 14,
   "metadata": {},
   "outputs": [
    {
     "name": "stdout",
     "output_type": "stream",
     "text": [
      "Unified scales: [0.00010999999940395356, 0.00020000000298023223, 9.855999797582626e-05]\n"
     ]
    }
   ],
   "source": [
    "# Determine a unified scale for visualization, taking the minimum scale for each dimension\n",
    "unified_scales = [min(dimensions1.scales[i], dimensions2.scales[i]) for i in range(3)]\n",
    "unified_dimensions = neuroglancer.CoordinateSpace(\n",
    "    names=[\"x\", \"y\", \"z\"],\n",
    "    units=[\"mm\", \"mm\", \"mm\"],\n",
    "    scales=unified_scales\n",
    ")\n",
    "\n",
    "print(f\"Unified scales: {unified_scales}\")"
   ]
  },
  {
   "cell_type": "code",
   "execution_count": 15,
   "metadata": {},
   "outputs": [
    {
     "name": "stdout",
     "output_type": "stream",
     "text": [
      "http://127.0.0.1:64140/v/9a3821912b0f11635c24225da4d100f3ab3a2b18/\n"
     ]
    }
   ],
   "source": [
    "if __name__ == \"__main__\":\n",
    "    if 'ipykernel_launcher' in sys.argv[0]:\n",
    "        sys.argv = [sys.argv[0]]  # Ignore notebook arguments\n",
    "    \n",
    "    ap = argparse.ArgumentParser()\n",
    "    neuroglancer.cli.add_server_arguments(ap)\n",
    "    args = ap.parse_args()\n",
    "    neuroglancer.cli.handle_server_arguments(args)\n",
    "\n",
    "    viewer = neuroglancer.Viewer()\n",
    "\n",
    "    with viewer.txn() as s:\n",
    "        s.dimensions = unified_dimensions  # Use unified dimensions\n",
    "        \n",
    "        s.layers[\"nifti1\"] = neuroglancer.SegmentationLayer(\n",
    "            source=[\n",
    "                neuroglancer.LocalVolume(data=data1.astype(np.uint32), dimensions=unified_dimensions)\n",
    "            ],\n",
    "        )\n",
    "\n",
    "        s.layers[\"nifti2\"] = neuroglancer.SegmentationLayer(\n",
    "            source=[\n",
    "                neuroglancer.LocalVolume(data=data2.astype(np.uint32), dimensions=unified_dimensions)\n",
    "            ],\n",
    "        )\n",
    "\n",
    "    print(viewer)"
   ]
  },
  {
   "cell_type": "code",
   "execution_count": null,
   "metadata": {},
   "outputs": [],
   "source": []
  }
 ],
 "metadata": {
  "kernelspec": {
   "display_name": "neuroglancer",
   "language": "python",
   "name": "python3"
  },
  "language_info": {
   "codemirror_mode": {
    "name": "ipython",
    "version": 3
   },
   "file_extension": ".py",
   "mimetype": "text/x-python",
   "name": "python",
   "nbconvert_exporter": "python",
   "pygments_lexer": "ipython3",
   "version": "3.10.14"
  }
 },
 "nbformat": 4,
 "nbformat_minor": 2
}
