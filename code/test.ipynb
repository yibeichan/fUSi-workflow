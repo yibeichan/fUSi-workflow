{
 "cells": [
  {
   "cell_type": "code",
   "execution_count": null,
   "metadata": {},
   "outputs": [],
   "source": [
    "import os\n",
    "import nibabel as nib\n",
    "import numpy as np\n",
    "from scipy.ndimage import zoom\n",
    "from nilearn.image import resample_img\n",
    "\n",
    "import pydra\n",
    "from pydra.engine.specs import File, SpecInfo\n",
    "from pydra.engine.core import Workflow\n",
    "from pydra.engine.task import FunctionTask\n",
    "import pydra.tasks.ants as ants\n",
    "\n",
    "from nilearn import plotting\n",
    "import matplotlib.pyplot as plt"
   ]
  },
  {
   "cell_type": "markdown",
   "metadata": {},
   "source": [
    "## 04/08/2024"
   ]
  },
  {
   "cell_type": "code",
   "execution_count": null,
   "metadata": {},
   "outputs": [],
   "source": [
    "data_dir = os.path.join(os.path.dirname(os.getcwd()), \"data\")\n",
    "mri_file = os.path.join(data_dir, \"original_MRI.nii.gz\")\n",
    "fusi_file = os.path.join(data_dir, \"Charmander_withouskull_withMB_3Dscan_4_angio3D.nii\")\n",
    "fusi_chunk_file1 = os.path.join(data_dir, \"Grouper_3DAnigio_WithLu_0321_3Dscan_2.nii\")\n",
    "fusi_chunk_file2 = os.path.join(data_dir, \"Zion_3Danigio_withLu_0321_2ndtry_3Dscan_5.nii\")\n",
    "output_dir = os.path.join(os.getcwd(), \"output\")"
   ]
  },
  {
   "cell_type": "markdown",
   "metadata": {},
   "source": []
  },
  {
   "cell_type": "code",
   "execution_count": null,
   "metadata": {},
   "outputs": [],
   "source": [
    "mri_img = nib.load(mri_file)\n",
    "mri_img.header.get_zooms()"
   ]
  },
  {
   "cell_type": "code",
   "execution_count": null,
   "metadata": {},
   "outputs": [],
   "source": [
    "plotting.plot_anat(mri_file)"
   ]
  },
  {
   "cell_type": "code",
   "execution_count": null,
   "metadata": {},
   "outputs": [],
   "source": [
    "fusi_img = nib.load(fusi_file)\n",
    "fusi_img.header.get_zooms()"
   ]
  },
  {
   "cell_type": "code",
   "execution_count": null,
   "metadata": {},
   "outputs": [],
   "source": [
    "plotting.plot_anat(fusi_file)"
   ]
  },
  {
   "cell_type": "code",
   "execution_count": null,
   "metadata": {},
   "outputs": [],
   "source": [
    "fusi_chunk_data1 = nib.load(fusi_chunk_file1).get_fdata()\n",
    "fusi_chunk_data1.shape"
   ]
  },
  {
   "cell_type": "code",
   "execution_count": null,
   "metadata": {},
   "outputs": [],
   "source": [
    "fusi_chunk_img2 = nib.load(fusi_chunk_file2)\n",
    "fusi_chunk_img2.header.get_zooms()"
   ]
  },
  {
   "cell_type": "markdown",
   "metadata": {},
   "source": [
    "## 04/17/2024"
   ]
  },
  {
   "cell_type": "code",
   "execution_count": null,
   "metadata": {},
   "outputs": [],
   "source": [
    "import os\n",
    "base_dir = os.path.dirname(os.getcwd())\n",
    "data_dir = os.path.join(base_dir, \"data\")\n",
    "output_dir = os.path.join(base_dir, \"output\")"
   ]
  },
  {
   "cell_type": "code",
   "execution_count": null,
   "metadata": {},
   "outputs": [],
   "source": [
    "\n",
    "from nipype.interfaces.dcm2nii import Dcm2niix\n",
    "converter = Dcm2niix()\n",
    "# Set the parameters for the conversion\n",
    "converter.inputs.source_dir = os.path.join (data_dir, 'Florian_MRI', 'DICOM')  # Update with the path to your DICOM folder\n",
    "converter.inputs.compression = 5\n",
    "converter.inputs.output_dir = os.path.join(output_dir, 'Florian_MRI_nifti')  # Update with your output path\n",
    "converter.inputs.out_filename = '%p_%t'  # Format the output filenames\n",
    "\n",
    "# Run the conversion\n",
    "result = converter.run()\n"
   ]
  },
  {
   "cell_type": "code",
   "execution_count": null,
   "metadata": {},
   "outputs": [],
   "source": [
    "import nibabel as nib\n",
    "import matplotlib.pyplot as plt\n",
    "\n",
    "img_path1 = os.path.join(output_dir, 'Florian_MRI_nifti', 'T1w_MPR_20240405094408.nii.gz')\n",
    "img_path2 = os.path.join(output_dir, 'Florian_MRI_nifti', 'T1w_MPR_20240405094408a.nii.gz')\n",
    "# Load the images\n",
    "img1 = nib.load(img_path1)\n",
    "img2 = nib.load(img_path2)\n",
    "\n",
    "# Convert to numpy arrays\n",
    "data1 = img1.get_fdata()\n",
    "data2 = img2.get_fdata()\n",
    "\n",
    "# Display the middle slice of each image\n",
    "plt.figure(figsize=(12, 6))\n",
    "plt.subplot(1, 2, 1)\n",
    "plt.imshow(data1[:, :, data1.shape[2] // 2], cmap='gray')\n",
    "plt.title('T1w_MPR First Version')\n",
    "plt.subplot(1, 2, 2)\n",
    "plt.imshow(data2[:, :, data2.shape[2] // 2], cmap='gray')\n",
    "plt.title('T1w_MPR Second Version')\n",
    "plt.show()\n"
   ]
  },
  {
   "cell_type": "markdown",
   "metadata": {},
   "source": [
    "## Co-register two scans and then get the average"
   ]
  },
  {
   "cell_type": "code",
   "execution_count": null,
   "metadata": {},
   "outputs": [],
   "source": [
    "import ants\n",
    "\n",
    "img_path1 = os.path.join(output_dir, 'Florian_MRI_nifti', 'T1w_MPR_20240405094408.nii.gz')\n",
    "img_path2 = os.path.join(output_dir, 'Florian_MRI_nifti', 'T1w_MPR_20240405094408a.nii.gz')\n",
    "\n",
    "# Load the images\n",
    "fixed_image = ants.image_read(img_path1)\n",
    "moving_image = ants.image_read(img_path2)\n",
    "\n",
    "# Run the registration (this is a simplified example; see ANTsPy documentation for all options)\n",
    "registration = ants.registration(fixed=fixed_image, moving=moving_image, type_of_transform='SyN')\n",
    "\n",
    "# Apply the transformation to the moving image\n",
    "moving_transformed = ants.apply_transforms(fixed=fixed_image, moving=moving_image, transformlist=registration['fwdtransforms'])\n",
    "\n",
    "# Average the fixed image and the transformed moving image\n",
    "average_image_data = (fixed_image.numpy() + moving_transformed.numpy()) / 2.0\n",
    "average_image = ants.from_numpy(average_image_data, origin=fixed_image.origin, spacing=fixed_image.spacing, direction=fixed_image.direction)\n",
    "\n",
    "# Save the averaged image\n",
    "# ants.image_write(average_image, 'averaged_marmoset_brain.nii')"
   ]
  },
  {
   "cell_type": "code",
   "execution_count": null,
   "metadata": {},
   "outputs": [],
   "source": [
    "plt.figure(figsize=(18, 6))\n",
    "plt.subplot(1, 3, 1)\n",
    "plt.imshow(data1[:, :, data1.shape[2] // 2], cmap='gray')\n",
    "plt.title('T1w_MPR First Version')\n",
    "plt.subplot(1, 3, 2)\n",
    "plt.imshow(data2[:, :, data2.shape[2] // 2], cmap='gray')\n",
    "plt.title('T1w_MPR Second Version')\n",
    "plt.subplot(1, 3, 3)\n",
    "plt.imshow(average_image.numpy()[:, :, average_image.numpy().shape[2] // 2], cmap='gray')\n",
    "plt.title('T1w_MPR Averaged')\n",
    "plt.show()"
   ]
  },
  {
   "cell_type": "code",
   "execution_count": null,
   "metadata": {},
   "outputs": [],
   "source": [
    "save_dir = os.path.join(output_dir, 'Florian_preproc')\n",
    "ants.image_write(average_image, os.path.join(save_dir, 'T1w_MPR_averaged.nii.gz'))"
   ]
  },
  {
   "cell_type": "code",
   "execution_count": null,
   "metadata": {},
   "outputs": [],
   "source": [
    "from nipype.interfaces.fsl import BET\n",
    "import matplotlib.pyplot as plt\n",
    "import nibabel as nib\n",
    "\n",
    "# Load the MRI image for visual inspection\n",
    "bet_dir = os.path.join(output_dir, 'Florian_preproc', 'bet2')\n",
    "os.makedirs(bet_dir, exist_ok=True)\n",
    "\n",
    "# Load the MRI image for visual inspection\n",
    "mri_file = os.path.join(output_dir, 'Florian_MRI_nifti', 'T1w_MPR_20240405094408a.nii.gz')\n",
    "mri_img = nib.load(mri_file)\n",
    "mri_data = mri_img.get_fdata()\n",
    "\n",
    "# Define a range of potential frac values\n",
    "frac_values = [0.2, 0.3, 0.4, 0.5, 0.6, 0.7]\n",
    "\n",
    "for frac in frac_values:\n",
    "    # Set up BET for each frac value\n",
    "    bet_out_file = os.path.join(bet_dir, f'T1w_MPR_brain_{frac}.nii.gz')\n",
    "    bet_mask_file = os.path.join(bet_dir, f'T1w_MPR_brain_{frac}_mask.nii.gz')\n",
    "    bet = BET(in_file=mri_file, out_file=bet_out_file, frac=frac, mask=True)\n",
    "    \n",
    "    # Run BET\n",
    "    bet.run()\n",
    "    \n",
    "    # Load the output mask for visual inspection\n",
    "    brain_mask_data = nib.load(bet_mask_file).get_fdata()\n",
    "\n",
    "    # Verify dimensions and existence of the mask\n",
    "    if mri_data.shape != brain_mask_data.shape:\n",
    "        print(f\"Dimension mismatch for frac={frac}: MRI data shape {mri_data.shape}, mask shape {brain_mask_data.shape}\")\n",
    "        continue\n",
    "\n",
    "    # Display the middle slice of the brain extraction result\n",
    "    plt.figure(figsize=(5, 5))\n",
    "    slice_index = mri_data.shape[2] // 2\n",
    "    plt.imshow(mri_data[:, :, slice_index], cmap='gray')\n",
    "    plt.imshow(brain_mask_data[:, :, slice_index], alpha=0.5, cmap='Reds')\n",
    "    plt.title(f'BET Result with frac = {frac}')\n",
    "    plt.show()"
   ]
  },
  {
   "cell_type": "code",
   "execution_count": null,
   "metadata": {},
   "outputs": [],
   "source": [
    "import numpy as np"
   ]
  },
  {
   "cell_type": "code",
   "execution_count": null,
   "metadata": {},
   "outputs": [],
   "source": [
    "mri_img.shape"
   ]
  },
  {
   "cell_type": "code",
   "execution_count": null,
   "metadata": {},
   "outputs": [],
   "source": [
    "np.unique(mri_img.get_fdata())"
   ]
  },
  {
   "cell_type": "markdown",
   "metadata": {},
   "source": [
    "# 04/18/2024"
   ]
  },
  {
   "cell_type": "code",
   "execution_count": null,
   "metadata": {},
   "outputs": [],
   "source": [
    "import os\n",
    "import ants\n",
    "import numpy as np\n",
    "import matplotlib.pyplot as plt\n",
    "\n",
    "base_dir = os.path.dirname(os.getcwd())\n",
    "data_dir = os.path.join(base_dir, \"data\")\n",
    "output_dir = os.path.join(base_dir, \"output\")"
   ]
  },
  {
   "cell_type": "markdown",
   "metadata": {},
   "source": [
    "## Bias field correction"
   ]
  },
  {
   "cell_type": "code",
   "execution_count": null,
   "metadata": {},
   "outputs": [],
   "source": [
    "import ants\n",
    "\n",
    "t1w_file = os.path.join(output_dir, 'Florian_preproc', 'T1w_MPR_averaged.nii.gz')\n",
    "\n",
    "# Perform bias field correction\n",
    "t1w_image = ants.image_read(t1w_file)\n",
    "corrected_image = ants.n4_bias_field_correction(t1w_image)\n",
    "\n",
    "# Save the bias-corrected image\n",
    "output_file = os.path.join(output_dir, 'Florian_preproc', 'bias_corrected_brain.nii.gz')\n",
    "ants.image_write(corrected_image, output_file)\n",
    "\n",
    "plt.figure(figsize=(12, 6))\n",
    "plt.subplot(1, 2, 1)\n",
    "plt.imshow(t1w_image.numpy()[:, :, data1.shape[2] // 2], cmap='gray')\n",
    "plt.title('T1w_MPR')\n",
    "plt.subplot(1, 2, 2)\n",
    "plt.imshow(corrected_image.numpy()[:, :, corrected_image.shape[2] // 2], cmap='gray')\n",
    "plt.title('Bias-Corrected Extracted Brain')\n",
    "plt.show()"
   ]
  },
  {
   "cell_type": "markdown",
   "metadata": {},
   "source": [
    "## register corrected T1w to T2w template (resampling to T2w space)"
   ]
  },
  {
   "cell_type": "code",
   "execution_count": null,
   "metadata": {},
   "outputs": [],
   "source": [
    "t1w_file = os.path.join(output_dir, 'Florian_MRI_nifti', 'T1w_MPR_20240405094408.nii.gz')\n",
    "t1w_image = ants.image_read(t1w_file)\n",
    "t2w_template_file = os.path.join(data_dir, 'template_T2w_brain.nii.gz')\n",
    "t2w_template_image = ants.image_read(t2w_template_file)\n",
    "t1w_image.shape, t2w_template_image.shape"
   ]
  },
  {
   "cell_type": "code",
   "execution_count": null,
   "metadata": {},
   "outputs": [],
   "source": [
    "t1w_image.spacing, t2w_template_image.spacing"
   ]
  },
  {
   "cell_type": "code",
   "execution_count": null,
   "metadata": {},
   "outputs": [],
   "source": [
    "img1 = nib.load(t1w_file).header.get_zooms()\n",
    "img2 = nib.load(t2w_template_file).header.get_zooms()\n",
    "img1, img2"
   ]
  },
  {
   "cell_type": "code",
   "execution_count": null,
   "metadata": {},
   "outputs": [],
   "source": [
    "t1w_file = os.path.join(output_dir, 'Florian_preproc', 'bias_corrected_brain.nii.gz')\n",
    "t1w_image = ants.image_read(t1w_file)\n",
    "t2w_template_file = os.path.join(data_dir, 'template_T2w_brain.nii.gz')\n",
    "t2w_template_image = ants.image_read(t2w_template_file)\n",
    "mytx = ants.registration(fixed=t2w_template_image, moving=t1w_image, type_of_transform='SyN')\n",
    "plt.imshow(mytx['warpedmovout'].numpy()[:, :, mytx['warpedmovout'].shape[2] // 2], cmap='gray')\n",
    "\n",
    "image = mytx['warpedmovout']\n",
    "\n",
    "# Create a mask of ones with the same shape as the image\n",
    "full_image_mask = ants.image_clone(image)  # Clone the structure of the image\n",
    "full_image_mask[:] = 1  # Set all values to 1 to create a full mask\n",
    "\n",
    "segmentation = ants.atropos(a=image, m='[0.2,1x1x1]', c='[2,0]', \n",
    "                            i='kmeans[3]',  # Assuming 3-tissue segmentation\n",
    "                            x=full_image_mask)  # Use the full image mask\n",
    "\n",
    "# below assuming class 2 is GM and class 3 is WM\n",
    "gm_mask = segmentation['probabilityimages'][1]\n",
    "wm_mask = segmentation['probabilityimages'][2]\n",
    "\n",
    "# Combine GM and WM to create a full brain mask\n",
    "brain_mask = gm_mask + wm_mask\n",
    "\n",
    "ants.image_write(image, os.path.join(output_dir, 'Florian_preproc', 'ants', 'extracted_corrected_T1w_brain.nii.gz'))\n",
    "ants.image_write(brain_mask, os.path.join(output_dir, 'Florian_preproc', 'ants', 'brain_mask.nii.gz'))\n",
    "ants.image_write(gm_mask, os.path.join(output_dir, 'Florian_preproc', 'ants', 'gm_mask.nii.gz'))\n",
    "ants.image_write(wm_mask, os.path.join(output_dir, 'Florian_preproc', 'ants', 'wm_mask.nii.gz'))\n",
    "\n",
    "slice_index = brain_mask.shape[2] // 2\n",
    "plt.figure(figsize=(5, 5))\n",
    "plt.imshow(image.numpy()[:,:,slice_index], cmap='gray')\n",
    "plt.imshow(brain_mask.numpy()[:,:,slice_index], alpha=0.5, cmap='Reds')\n",
    "plt.title('Brain Mask Overlaid on T1 Image')\n",
    "plt.show()"
   ]
  },
  {
   "cell_type": "code",
   "execution_count": null,
   "metadata": {},
   "outputs": [],
   "source": [
    "t1w_file = os.path.join(output_dir, 'Florian_MRI_nifti', 'T1w_MPR_20240405094408a.nii.gz')\n",
    "t1w_image = ants.image_read(t1w_file)\n",
    "t2w_template_file = os.path.join(data_dir, 'template_T2w_brain.nii.gz')\n",
    "t2w_template_image = ants.image_read(t2w_template_file)\n",
    "mytx = ants.registration(fixed=t2w_template_image, moving=t1w_image, type_of_transform='SyN')\n",
    "plt.imshow(mytx['warpedmovout'].numpy()[:, :, mytx['warpedmovout'].shape[2] // 2], cmap='gray')"
   ]
  },
  {
   "cell_type": "code",
   "execution_count": null,
   "metadata": {},
   "outputs": [],
   "source": [
    "t1w_file = os.path.join(output_dir, 'Florian_preproc', 'T1w_MPR_averaged.nii.gz')\n",
    "t1w_image = ants.image_read(t1w_file)\n",
    "t2w_template_file = os.path.join(data_dir, 'template_T2w_brain.nii.gz')\n",
    "t2w_template_image = ants.image_read(t2w_template_file)\n",
    "mytx = ants.registration(fixed=t2w_template_image, moving=t1w_image, type_of_transform='SyN')\n",
    "plt.imshow(mytx['warpedmovout'].numpy()[:, :, mytx['warpedmovout'].shape[2] // 2], cmap='gray')"
   ]
  },
  {
   "cell_type": "markdown",
   "metadata": {},
   "source": [
    "## Register TOF to T1w"
   ]
  },
  {
   "cell_type": "code",
   "execution_count": null,
   "metadata": {},
   "outputs": [],
   "source": [
    "tof_file = os.path.join(output_dir, 'Florian_MRI_nifti', 'NoSAT_TOF_3D_multi-slab_0.13mm_iso_20240405094408a.nii.gz')\n",
    "proced_t1w_file = os.path.join(output_dir, 'Florian_preproc', 'ants', 'extracted_corrected_T1w_brain.nii.gz')\n",
    "tof_image = ants.image_read(tof_file)\n",
    "proced_t1w_image = ants.image_read(proced_t1w_file)\n",
    "tof_image.set_direction(proced_t1w_image.direction)"
   ]
  },
  {
   "cell_type": "code",
   "execution_count": null,
   "metadata": {},
   "outputs": [],
   "source": [
    "tof_image_nib = nib.load(tof_file)\n",
    "tof_data = tof_image_nib.get_fdata()\n",
    "\n",
    "# Reorder the axes of the TOF image data\n",
    "# The target orientation you want is (768, 768, 173),\n",
    "# which means you want to swap the last axis to the second position\n",
    "tof_data_reoriented = np.transpose(tof_data, (2, 0, 1))\n",
    "\n",
    "# Create a new Nibabel image object with the reoriented data\n",
    "tof_image_reoriented_nib = nib.Nifti1Image(tof_data_reoriented, affine=tof_image_nib.affine)\n",
    "\n",
    "# Save the reoriented TOF image to a new file\n",
    "# nib.save(tof_image_reoriented_nib, 'path_to_reoriented_tof_image.nii.gz')\n",
    "# plot tof and tof_reoriented\n"
   ]
  },
  {
   "cell_type": "code",
   "execution_count": null,
   "metadata": {},
   "outputs": [],
   "source": [
    "tof_image.shape, tof_image_reoriented_nib.shape"
   ]
  },
  {
   "cell_type": "code",
   "execution_count": null,
   "metadata": {},
   "outputs": [],
   "source": [
    "tof_image.spacing"
   ]
  },
  {
   "cell_type": "code",
   "execution_count": null,
   "metadata": {},
   "outputs": [],
   "source": [
    "plt.figure(figsize=(18, 6))\n",
    "plt.subplot(1, 2, 1)\n",
    "plt.imshow(tof_image.numpy()[:, tof_image.shape[1] // 2, :], cmap='gray')\n",
    "plt.title('TOF Image')\n",
    "plt.subplot(1, 2, 2)\n",
    "plt.imshow(tof_image_reoriented_nib.get_fdata()[:, :, tof_image_reoriented_nib.shape[2] // 2].T, cmap='gray')\n",
    "plt.title('TOF Image Reoriented')\n",
    "plt.show()"
   ]
  },
  {
   "cell_type": "code",
   "execution_count": null,
   "metadata": {},
   "outputs": [],
   "source": [
    "# plot proced_t1w_image, tof_image, tof_image_reoriented\n",
    "plt.figure(figsize=(18, 6))\n",
    "plt.subplot(1, 3, 1)\n",
    "plt.imshow(proced_t1w_image.numpy()[:, :, proced_t1w_image.shape[2] // 2], cmap='gray')\n",
    "plt.title('Proced T1w Image')\n",
    "plt.subplot(1, 3, 2)\n",
    "plt.imshow(tof_image.numpy()[:, :, tof_image.shape[2] // 2], cmap='gray')\n",
    "plt.title('TOF Image')\n",
    "plt.subplot(1, 3, 3)\n",
    "plt.imshow(tof_image_reoriented.numpy()[:, :, tof_image_reoriented.shape[2] // 2], cmap='gray')\n",
    "plt.title('TOF Image Reoriented')\n",
    "plt.show()"
   ]
  },
  {
   "cell_type": "code",
   "execution_count": null,
   "metadata": {},
   "outputs": [],
   "source": [
    "img1.shape, img2.shape, img3.shape, img4.shape"
   ]
  },
  {
   "cell_type": "code",
   "execution_count": null,
   "metadata": {},
   "outputs": [],
   "source": [
    "img1.spacing, img2.spacing, img3.spacing, img4.spacing"
   ]
  },
  {
   "cell_type": "code",
   "execution_count": null,
   "metadata": {},
   "outputs": [],
   "source": [
    "img_path1 = os.path.join(output_dir, 'Florian_MRI_nifti', 'NoSAT_TOF_3D_multi-slab_0.13mm_iso_20240405094408.nii.gz')\n",
    "img_path2 = os.path.join(output_dir, 'Florian_MRI_nifti', 'NoSAT_TOF_3D_multi-slab_0.13mm_iso_20240405094408a.nii.gz')\n",
    "img_path3 = os.path.join(output_dir, 'Florian_MRI_nifti', 'NoSAT_TOF_3D_multi-slab_0.13mm_iso_20240405094408b.nii.gz')\n",
    "img_path4 = os.path.join(output_dir, 'Florian_MRI_nifti', 'NoSAT_TOF_3D_multi-slab_0.13mm_iso_20240405094408c.nii.gz')\n",
    "\n",
    "img1 = ants.image_read(img_path1)\n",
    "img2 = ants.image_read(img_path2)\n",
    "img3 = ants.image_read(img_path3)\n",
    "img4 = ants.image_read(img_path4)\n",
    "\n",
    "# plot 4 images 2x2\n",
    "fig, axs = plt.subplots(2, 2)\n",
    "fig.set_size_inches(10, 10)\n",
    "axs[0, 0].imshow(img1.numpy()[:, :, img1.shape[2] // 2], cmap='gray')\n",
    "axs[0, 1].imshow(img2.numpy()[:, :, img2.shape[2] // 2], cmap='gray')\n",
    "axs[1, 0].imshow(img3.numpy()[:, :, img3.shape[2] // 2], cmap='gray')\n",
    "axs[1, 1].imshow(img4.numpy()[:, :, img4.shape[2] // 2], cmap='gray')\n",
    "plt.show()"
   ]
  },
  {
   "cell_type": "code",
   "execution_count": null,
   "metadata": {},
   "outputs": [],
   "source": [
    "fig, axs = plt.subplots(2, 2)\n",
    "fig.set_size_inches(10, 10)\n",
    "axs[0, 0].imshow(img1.numpy()[:, :, 0], cmap='gray')\n",
    "axs[0, 1].imshow(img2.numpy()[:, img2.shape[1] // 2, :], cmap='gray')\n",
    "axs[1, 0].imshow(img3.numpy()[:, :, 0], cmap='gray')\n",
    "axs[1, 1].imshow(img4.numpy()[:, :, 0], cmap='gray')\n",
    "plt.show()"
   ]
  },
  {
   "cell_type": "code",
   "execution_count": null,
   "metadata": {},
   "outputs": [],
   "source": [
    "img_path = os.path.join(data_dir, 'Florian_MRI', '14 MEAN_S12_S13_1.nii')\n",
    "img = ants.image_read(img_path)\n",
    "img.shape"
   ]
  },
  {
   "cell_type": "code",
   "execution_count": null,
   "metadata": {},
   "outputs": [],
   "source": [
    "img_path = os.path.join(data_dir, 'Florian_MRI', '15 NoSAT_TOF_3D_multi-slab 0.13mm iso.nii')\n",
    "img = ants.image_read(img_path)\n",
    "img.shape"
   ]
  },
  {
   "cell_type": "code",
   "execution_count": null,
   "metadata": {},
   "outputs": [],
   "source": [
    "(256, 324, 384)"
   ]
  },
  {
   "cell_type": "code",
   "execution_count": null,
   "metadata": {},
   "outputs": [],
   "source": [
    "img.spacing"
   ]
  },
  {
   "cell_type": "code",
   "execution_count": null,
   "metadata": {},
   "outputs": [],
   "source": [
    "plt.imshow(img.numpy()[:, :, img.shape[2] // 2], cmap='gray')\n"
   ]
  },
  {
   "cell_type": "code",
   "execution_count": null,
   "metadata": {},
   "outputs": [],
   "source": [
    "plt.imshow(image.numpy()[:,:,slice_index], cmap='gray')"
   ]
  },
  {
   "cell_type": "code",
   "execution_count": null,
   "metadata": {},
   "outputs": [],
   "source": [
    "image.shape"
   ]
  },
  {
   "cell_type": "code",
   "execution_count": null,
   "metadata": {},
   "outputs": [],
   "source": [
    "img2 = ants.image_read(img_path2)\n",
    "\n",
    "plt.imshow(img2.numpy()[:, img2.shape[1] // 2, :], cmap='gray')\n"
   ]
  },
  {
   "cell_type": "markdown",
   "metadata": {},
   "source": [
    "## Preproc TOF"
   ]
  },
  {
   "cell_type": "markdown",
   "metadata": {},
   "source": [
    "### Bias field correction"
   ]
  },
  {
   "cell_type": "code",
   "execution_count": null,
   "metadata": {},
   "outputs": [],
   "source": [
    "tof_file = os.path.join(output_dir, 'Florian_MRI_nifti', 'NoSAT_TOF_3D_multi-slab_0.13mm_iso_20240405094408a.nii.gz')\n",
    "tof_image = ants.image_read(tof_file)\n",
    "\n",
    "tof_corrected = ants.n4_bias_field_correction(tof_image)\n",
    "\n",
    "out_file = os.path.join(output_dir, 'Florian_preproc', 'bias_corrected_tof.nii.gz')\n",
    "ants.image_write(tof_corrected, out_file)\n",
    "# plot both\n",
    "plt.figure(figsize=(12, 6))\n",
    "plt.subplot(1, 2, 1)\n",
    "plt.imshow(tof_image.numpy()[:, tof_image.shape[1] // 2, :], cmap='gray')\n",
    "plt.title('TOF Image')\n",
    "plt.subplot(1, 2, 2)\n",
    "plt.imshow(tof_corrected.numpy()[:, tof_corrected.shape[1] // 2, :], cmap='gray')\n",
    "plt.title('TOF Corrected')\n",
    "plt.show()"
   ]
  },
  {
   "cell_type": "markdown",
   "metadata": {},
   "source": [
    "### skull strip"
   ]
  },
  {
   "cell_type": "code",
   "execution_count": null,
   "metadata": {},
   "outputs": [],
   "source": [
    "tof_file = os.path.join(output_dir, 'Florian_MRI_nifti', 'NoSAT_TOF_3D_multi-slab_0.13mm_iso_20240405094408a.nii.gz')\n",
    "tof_image = ants.image_read(tof_file)\n",
    "# threshold_value = np.percentile(tof_corrected.numpy(), 98) \n",
    "# initial_mask = tof_corrected > threshold_value\n",
    "\n",
    "tof_img = tof_image.numpy()\n",
    "hist, bin_edges = np.histogram(tof_img.flatten(), bins=100, range=(np.percentile(tof_img, 2), np.percentile(tof_img, 98)))\n",
    "\n",
    "# Plot the histogram\n",
    "plt.plot(bin_edges[:-1], hist)\n",
    "plt.yscale('log')  # Log scale might help in visualizing the \"valley\"\n",
    "plt.title('Histogram of TOF Data (before bias correction)')\n",
    "plt.xlabel('Intensity Value')\n",
    "plt.ylabel('Frequency')\n",
    "plt.show()"
   ]
  },
  {
   "cell_type": "code",
   "execution_count": null,
   "metadata": {},
   "outputs": [],
   "source": [
    "tof_corrected_file = os.path.join(output_dir, 'Florian_preproc', 'bias_corrected_tof.nii.gz')\n",
    "tof_corrected = ants.image_read(tof_corrected_file)\n",
    "# threshold_value = np.percentile(tof_corrected.numpy(), 98) \n",
    "# initial_mask = tof_corrected > threshold_value\n",
    "\n",
    "tof_data = tof_corrected.numpy()\n",
    "hist, bin_edges = np.histogram(tof_data.flatten(), bins=100, range=(np.percentile(tof_data, 2), np.percentile(tof_data, 98)))\n",
    "\n",
    "# Plot the histogram\n",
    "plt.plot(bin_edges[:-1], hist)\n",
    "plt.yscale('log')  # Log scale might help in visualizing the \"valley\"\n",
    "plt.title('Histogram of TOF Data (after bias correction)')\n",
    "plt.xlabel('Intensity Value')\n",
    "plt.ylabel('Frequency')\n",
    "plt.show()"
   ]
  },
  {
   "cell_type": "code",
   "execution_count": null,
   "metadata": {},
   "outputs": [],
   "source": [
    "tof_downsampled = ants.resample_image(tof_corrected, resample_params=(0.5, 0.5, 0.5), use_voxels=False, interp_type=1)  # using linear interpolation\n",
    "\n",
    "tof_downsampled_data = tof_downsampled.numpy()\n",
    "hist, bin_edges = np.histogram(tof_downsampled_data.flatten(), bins=100, range=(np.percentile(tof_downsampled_data, 2), np.percentile(tof_downsampled_data, 98)))\n",
    "\n",
    "# Plot the histogram\n",
    "plt.plot(bin_edges[:-1], hist)\n",
    "plt.yscale('log')  # Log scale might help in visualizing the \"valley\"\n",
    "plt.title('Histogram of TOF Data (after downsampling)')\n",
    "plt.xlabel('Intensity Value')\n",
    "plt.ylabel('Frequency')\n",
    "plt.show()"
   ]
  },
  {
   "cell_type": "code",
   "execution_count": null,
   "metadata": {},
   "outputs": [],
   "source": [
    "# find the index where hist is min\n",
    "idx = np.where(hist == np.min(hist))[0][0]\n",
    "print(bin_edges[idx])"
   ]
  },
  {
   "cell_type": "code",
   "execution_count": null,
   "metadata": {},
   "outputs": [],
   "source": [
    "idx"
   ]
  },
  {
   "cell_type": "code",
   "execution_count": null,
   "metadata": {},
   "outputs": [],
   "source": [
    "threshold_value = np.percentile(tof_corrected.numpy(), 91)  # You may need to adjust this based on the histogram\n",
    "initial_mask = tof_corrected > threshold_value\n",
    "\n",
    "# # apply mask\n",
    "# # Ensure the mask is binary\n",
    "# # mask = ants.threshold_image(initial_mask, low_thresh=0.5, high_thresh=1e6, inval=1, outval=0)\n",
    "# mask_image = initial_mask > 0\n",
    "# # Apply the mask to the TOF data\n",
    "# masked_tof = tof_corrected * mask_image\n",
    "\n",
    "mask2 = ants.iMath(initial_mask, 'GetLargestComponent', 100)\n",
    "\n",
    "plt.imshow(initial_mask[:, int(initial_mask.shape[1] / 2), :], cmap='gray')\n",
    "plt.title('Initial Mask')\n",
    "plt.imshow(mask2[:, int(initial_mask.shape[1] / 2), :], cmap='gray')\n",
    "plt.show()\n",
    "\n",
    "# # plot mask, TOF data, and masked TOF data\n",
    "# plt.figure(figsize=(18, 6))\n",
    "# plt.subplot(1, 3, 1)\n",
    "# plt.imshow(mask_image[:, int(mask_image.shape[1] / 2), :])\n",
    "# plt.title('Initial Mask')\n",
    "# plt.subplot(1, 3, 2)\n",
    "# plt.imshow(tof_corrected[:, int(mask_image.shape[1] / 2), :])\n",
    "# plt.title('TOF Data')\n",
    "# plt.subplot(1, 3, 3)\n",
    "# plt.imshow(masked_tof[:, int(mask_image.shape[1] / 2), :])\n",
    "# plt.title('Masked TOF Data')"
   ]
  },
  {
   "cell_type": "code",
   "execution_count": null,
   "metadata": {},
   "outputs": [],
   "source": [
    "# Load the images and convert to numpy arrays\n",
    "# tof_data = tof_corrected.numpy()\n",
    "mask_data = mask_image.numpy()\n",
    "\n",
    "# First, make sure the mask is of a numerical data type and binary\n",
    "mask_data = mask_data.astype(np.uint8)\n",
    "\n",
    "# Apply the mask to the TOF data to create a masked array\n",
    "masked_tof_data = np.where(mask_data, tof_corrected.numpy(), 0)\n",
    "\n",
    "# Before converting to an ANTsImage, ensure the array is of type float32 or float64 and is contiguous\n",
    "masked_tof_data = np.ascontiguousarray(masked_tof_data, dtype=np.float32)\n",
    "\n",
    "# Now create the ANTs image from the numpy array\n",
    "masked_tof_image = ants.from_numpy(masked_tof_data, \n",
    "                                   origin=tof_corrected.origin, \n",
    "                                   spacing=tof_corrected.spacing, \n",
    "                                   direction=tof_corrected.direction)\n",
    "\n"
   ]
  },
  {
   "cell_type": "code",
   "execution_count": null,
   "metadata": {},
   "outputs": [],
   "source": [
    "for slice_idx in range(0, tof_corrected.shape[1], 10):\n",
    "    # plot mask, TOF data, and masked TOF data\n",
    "    print(slice_idx)\n",
    "    plt.figure(figsize=(18, 6))\n",
    "    plt.subplot(1, 3, 1)\n",
    "    plt.imshow(mask_image[:, slice_idx, :])\n",
    "    plt.title('Initial Mask')\n",
    "    plt.subplot(1, 3, 2)\n",
    "    plt.imshow(tof_corrected[:, slice_idx, :])\n",
    "    plt.title('TOF Data')\n",
    "    plt.subplot(1, 3, 3)\n",
    "    plt.imshow(masked_tof_image[:, slice_idx, :])\n",
    "    plt.title('Masked TOF Data')\n",
    "    plt.show()"
   ]
  },
  {
   "cell_type": "code",
   "execution_count": null,
   "metadata": {},
   "outputs": [],
   "source": [
    "tof_data = tof_corrected.numpy()\n",
    "non_zero_indices = np.nonzero(tof_data)\n",
    "\n",
    "# Compare values at these indices between the TOF data and the Masked TOF data\n",
    "original_values = tof_data[non_zero_indices]\n",
    "masked_values = masked_tof_data[non_zero_indices]\n",
    "\n",
    "# Check if all values are close within a tolerance\n",
    "if np.allclose(original_values, masked_values, atol=1e-6):\n",
    "    print(\"The TOF data is already effectively masked.\")\n",
    "else:\n",
    "    print(\"The TOF data needs to be masked.\")"
   ]
  },
  {
   "cell_type": "code",
   "execution_count": null,
   "metadata": {},
   "outputs": [],
   "source": [
    "plt.imshow(initial_mask[:, int(initial_mask.shape[1] / 2), :], cmap='gray')\n",
    "plt.title('Initial Mask')\n",
    "plt.show()\n",
    "\n",
    "# cleaned_mask = ants.iMath(initial_mask, \"FillHoles\")\n",
    "# plt.imshow(cleaned_mask[:, int(initial_mask.shape[1] / 2), :], cmap='gray')\n",
    "# plt.title('Cleaned Mask')\n",
    "# plt.show()\n",
    "\n",
    "# cleaned_mask = ants.iMath(initial_mask, \"GetLargestComponent\")\n",
    "# plt.imshow(cleaned_mask[:, int(cleaned_mask.shape[1] / 2), :], cmap='gray')\n",
    "# plt.title('Cleaned Mask')\n",
    "# plt.show()\n",
    "\n",
    "dilated_mask = ants.iMath(initial_mask, \"MD\", 1)  # The second argument is the radius\n",
    "closed_mask = ants.iMath(dilated_mask, \"ME\", 1)\n",
    "\n",
    "# Visualize the closed mask to ensure it looks reasonable\n",
    "slice_idx = int(closed_mask.shape[1] / 2)  # Adjust this as needed\n",
    "plt.imshow(closed_mask.numpy()[:, slice_idx, :], cmap='gray')\n",
    "plt.title('Morphologically Closed Mask')\n",
    "plt.show()\n",
    "\n",
    "# # Extract several large components\n",
    "# labeled_components = ants.LabelClustersUniquely(initial_mask)\n",
    "# largest_components = ants.GetLargestComponent(labeled_components, minSize=10)  # Adjust the minSize as needed\n",
    "\n",
    "# # Visualize the labeled components\n",
    "# plt.imshow(largest_components[:, :, int(largest_components.shape[2] / 2)], cmap='gray')\n",
    "# plt.title('Labeled Components')\n",
    "# plt.show()\n",
    "\n"
   ]
  },
  {
   "cell_type": "code",
   "execution_count": null,
   "metadata": {},
   "outputs": [],
   "source": [
    "# Inspect multiple slices\n",
    "for i in range(0, closed_mask.shape[1], 10):  # Adjust the step for your image size\n",
    "    plt.imshow(closed_mask[:, i, :], cmap='gray')\n",
    "    plt.title(f'Morphologically Closed Mask - Slice {i}')\n",
    "    plt.show()\n"
   ]
  },
  {
   "cell_type": "code",
   "execution_count": null,
   "metadata": {},
   "outputs": [],
   "source": [
    "import numpy as np\n",
    "import matplotlib.pyplot as plt\n",
    "\n",
    "# Load the image data into an array\n",
    "mask_data = initial_mask.numpy()\n",
    "\n",
    "# Visualize slices throughout the volume\n",
    "fig, axes = plt.subplots(nrows=3, ncols=3, figsize=(9, 9))\n",
    "\n",
    "slice_indexes = np.linspace(0, mask_data.shape[1] - 1, 9, dtype=int)\n",
    "for ax, slice_index in zip(axes.flatten(), slice_indexes):\n",
    "    ax.imshow(mask_data[:, slice_index, :], cmap='gray')\n",
    "    ax.set_title(f'Slice {slice_index}')\n",
    "    ax.axis('off')\n",
    "\n",
    "plt.tight_layout()\n",
    "plt.show()"
   ]
  },
  {
   "cell_type": "markdown",
   "metadata": {},
   "source": [
    "## Preproc fUSi"
   ]
  },
  {
   "cell_type": "code",
   "execution_count": null,
   "metadata": {},
   "outputs": [],
   "source": [
    "fusi_file = os.path.join(data_dir, \"Charmander_withouskull_withMB_3Dscan_4_angio3D.nii\")\n",
    "\n",
    "fusi = ants.image_read(fusi_file)\n",
    "fusi.shape, fusi.spacing"
   ]
  },
  {
   "cell_type": "code",
   "execution_count": null,
   "metadata": {},
   "outputs": [],
   "source": [
    "fusi_data = fusi.numpy()\n",
    "fig, axes = plt.subplots(nrows=3, ncols=3, figsize=(9, 9))\n",
    "\n",
    "slice_indexes = np.linspace(0, fusi_data.shape[1] - 1, 9, dtype=int)\n",
    "for ax, slice_index in zip(axes.flatten(), slice_indexes):\n",
    "    ax.imshow(fusi_data[:, slice_index, :], cmap='gray')\n",
    "    ax.set_title(f'Slice {slice_index}')\n",
    "    ax.axis('off')\n",
    "\n",
    "plt.tight_layout()\n",
    "plt.show()"
   ]
  }
 ],
 "metadata": {
  "kernelspec": {
   "display_name": "fusi",
   "language": "python",
   "name": "python3"
  },
  "language_info": {
   "codemirror_mode": {
    "name": "ipython",
    "version": 3
   },
   "file_extension": ".py",
   "mimetype": "text/x-python",
   "name": "python",
   "nbconvert_exporter": "python",
   "pygments_lexer": "ipython3",
   "version": "3.10.13"
  }
 },
 "nbformat": 4,
 "nbformat_minor": 2
}
