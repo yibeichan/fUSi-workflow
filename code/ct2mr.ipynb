{
 "cells": [
  {
   "cell_type": "code",
   "execution_count": 1,
   "metadata": {},
   "outputs": [],
   "source": [
    "import nibabel as nib"
   ]
  },
  {
   "cell_type": "code",
   "execution_count": 15,
   "metadata": {},
   "outputs": [],
   "source": [
    "import SimpleITK as sitk\n",
    "import numpy as np\n",
    "\n",
    "def resample_image(image, reference_image, is_label=False):\n",
    "    resample = sitk.ResampleImageFilter()\n",
    "    resample.SetReferenceImage(reference_image)\n",
    "    resample.SetOutputSpacing(reference_image.GetSpacing())\n",
    "    resample.SetSize(reference_image.GetSize())\n",
    "    resample.SetOutputDirection(reference_image.GetDirection())\n",
    "    resample.SetOutputOrigin(reference_image.GetOrigin())\n",
    "    resample.SetTransform(sitk.Transform())\n",
    "    resample.SetDefaultPixelValue(image.GetPixelIDValue())\n",
    "    \n",
    "    if is_label:\n",
    "        resample.SetInterpolator(sitk.sitkNearestNeighbor)\n",
    "    else:\n",
    "        resample.SetInterpolator(sitk.sitkLinear)\n",
    "    \n",
    "    return resample.Execute(image)\n",
    "\n",
    "def register_ct_to_mri(ct_path, mri_path, output_path):\n",
    "    # Read images\n",
    "    ct_image = sitk.ReadImage(ct_path, sitk.sitkFloat32)\n",
    "    mri_image = sitk.ReadImage(mri_path, sitk.sitkFloat32)\n",
    "    \n",
    "    # Create a reference image with MRI dimensions but CT voxel size\n",
    "    reference_image = sitk.Image(mri_image.GetSize(), sitk.sitkFloat32)\n",
    "    reference_image.SetSpacing(ct_image.GetSpacing())\n",
    "    reference_image.SetDirection(mri_image.GetDirection())\n",
    "    reference_image.SetOrigin(mri_image.GetOrigin())\n",
    "    \n",
    "    # Resample MRI to match CT resolution\n",
    "    mri_resampled = resample_image(mri_image, reference_image)\n",
    "    \n",
    "    # Initialize registration framework\n",
    "    registration_method = sitk.ImageRegistrationMethod()\n",
    "    \n",
    "    # Set up similarity metric (Mutual Information for multi-modality)\n",
    "    registration_method.SetMetricAsMattesMutualInformation(numberOfHistogramBins=50)\n",
    "    registration_method.SetMetricSamplingStrategy(registration_method.RANDOM)\n",
    "    registration_method.SetMetricSamplingPercentage(0.01)\n",
    "    \n",
    "    # Set optimizer (Gradient Descent)\n",
    "    registration_method.SetOptimizerAsGradientDescent(learningRate=1.0, numberOfIterations=100)\n",
    "    registration_method.SetOptimizerScalesFromPhysicalShift()\n",
    "    \n",
    "    # Set interpolator\n",
    "    registration_method.SetInterpolator(sitk.sitkLinear)\n",
    "    \n",
    "    # Set up initial transform (center of mass alignment)\n",
    "    initial_transform = sitk.CenteredTransformInitializer(mri_resampled, ct_image, \n",
    "                                                          sitk.Euler3DTransform(), \n",
    "                                                          sitk.CenteredTransformInitializerFilter.GEOMETRY)\n",
    "    registration_method.SetInitialTransform(initial_transform)\n",
    "    \n",
    "    # Perform registration\n",
    "    final_transform = registration_method.Execute(mri_resampled, ct_image)\n",
    "    \n",
    "    # Apply transform and resample CT to original MRI space\n",
    "    resampler = sitk.ResampleImageFilter()\n",
    "    resampler.SetReferenceImage(mri_image)\n",
    "    resampler.SetInterpolator(sitk.sitkLinear)\n",
    "    resampler.SetDefaultPixelValue(ct_image.GetPixelIDValue())\n",
    "    resampler.SetTransform(final_transform)\n",
    "    \n",
    "    ct_registered = resampler.Execute(ct_image)\n",
    "    \n",
    "    # Save result\n",
    "    sitk.WriteImage(ct_registered, output_path)\n",
    "    \n",
    "    print(f\"Final metric value: {registration_method.GetMetricValue()}\")\n",
    "    print(f\"Optimizer stop condition: {registration_method.GetOptimizerStopConditionDescription()}\")\n"
   ]
  },
  {
   "cell_type": "code",
   "execution_count": 16,
   "metadata": {},
   "outputs": [
    {
     "name": "stdout",
     "output_type": "stream",
     "text": [
      "Final metric value: -0.00014977091781087233\n",
      "Optimizer stop condition: GradientDescentOptimizerv4Template: Convergence checker passed at iteration 9.\n"
     ]
    }
   ],
   "source": [
    "# Usage\n",
    "ct_path = \"/Users/yibeichen/Desktop/fusi/microCT/reoriented/MASK_Marmoset_brain_B_200micron.nii.gz\"\n",
    "mri_path = \"/Users/yibeichen/Desktop/fusi/atlas/template_T1w_brain.nii.gz\"\n",
    "output_path = \"/Users/yibeichen/Desktop/fusi/microCT/reoriented/registered_Marmoset_brain_B_200micron.nii.gz\"\n",
    "\n",
    "register_ct_to_mri(ct_path, mri_path, output_path)"
   ]
  },
  {
   "cell_type": "code",
   "execution_count": 14,
   "metadata": {},
   "outputs": [
    {
     "name": "stdout",
     "output_type": "stream",
     "text": [
      "Final metric value: -0.012567775187517002\n",
      "Optimizer stop condition: RegularStepGradientDescentOptimizerv4: Maximum number of iterations (200) exceeded.\n"
     ]
    }
   ],
   "source": [
    "import SimpleITK as sitk\n",
    "\n",
    "# Load the CT and MRI images\n",
    "ct_image = sitk.ReadImage(ct_image_path)\n",
    "mri_image = sitk.ReadImage(mri_template_path)\n",
    "\n",
    "ct_image_float32 = sitk.Cast(ct_image, sitk.sitkFloat32)\n",
    "\n",
    "# Step 1: Perform Registration (rigid registration)\n",
    "\n",
    "# Initialize transform using the image centers\n",
    "initial_transform = sitk.CenteredTransformInitializer(mri_image, \n",
    "                                                      ct_image_float32, \n",
    "                                                      sitk.Euler3DTransform(), \n",
    "                                                      sitk.CenteredTransformInitializerFilter.GEOMETRY)\n",
    "\n",
    "# Set up the registration method\n",
    "registration_method = sitk.ImageRegistrationMethod()\n",
    "\n",
    "# Similarity metric: Mutual Information is good for multimodal images like CT and MRI\n",
    "registration_method.SetMetricAsMattesMutualInformation(numberOfHistogramBins=50)\n",
    "\n",
    "# Optimizer: Regular step gradient descent\n",
    "registration_method.SetOptimizerAsRegularStepGradientDescent(learningRate=1.0, \n",
    "                                                             minStep=0.001, \n",
    "                                                             numberOfIterations=200)\n",
    "\n",
    "# Interpolation method\n",
    "registration_method.SetInterpolator(sitk.sitkLinear)\n",
    "\n",
    "# Set initial transform (rigid)\n",
    "registration_method.SetInitialTransform(initial_transform, inPlace=False)\n",
    "\n",
    "# Execute the registration\n",
    "final_transform = registration_method.Execute(mri_image, ct_image_float32)\n",
    "\n",
    "print(f\"Final metric value: {registration_method.GetMetricValue()}\")\n",
    "print(f\"Optimizer stop condition: {registration_method.GetOptimizerStopConditionDescription()}\")\n",
    "\n",
    "# Step 2: Resample the CT image to align with the MRI and match the MRI's voxel size\n",
    "\n",
    "# Get MRI's voxel size (spacing) and size\n",
    "mri_spacing = mri_image.GetSpacing()\n",
    "mri_size = mri_image.GetSize()\n",
    "\n",
    "# Set up the resampler to apply the transformation\n",
    "resample = sitk.ResampleImageFilter()\n",
    "resample.SetReferenceImage(mri_image)  # Reference MRI image for resampling\n",
    "resample.SetTransform(final_transform)  # Use the computed transform from registration\n",
    "resample.SetInterpolator(sitk.sitkLinear)  # Use linear interpolation\n",
    "resample.SetOutputSpacing(mri_spacing)  # Match the voxel size of the MRI\n",
    "resample.SetSize(mri_size)  # Match the size of the MRI image\n",
    "\n",
    "# Execute resampling\n",
    "resampled_ct = resample.Execute(ct_image_float32)\n",
    "\n",
    "# Step 3: Save the registered and resampled CT image\n",
    "sitk.WriteImage(resampled_ct, 'registered_and_resampled_CT.nii')\n",
    "\n",
    "# Save the final transform for future use\n",
    "sitk.WriteTransform(final_transform, 'ct_to_mri_transform.tfm')"
   ]
  },
  {
   "cell_type": "code",
   "execution_count": 5,
   "metadata": {},
   "outputs": [],
   "source": [
    "ct_img = nib.load(ct_image_path)\n",
    "mri_img = nib.load(mri_template_path)"
   ]
  },
  {
   "cell_type": "code",
   "execution_count": 8,
   "metadata": {},
   "outputs": [],
   "source": [
    "def get_img_info(img_path):\n",
    "    # Load the image\n",
    "    img = nib.load(img_path)\n",
    "    # Get image data\n",
    "    data = img.get_fdata()\n",
    "    # Get the affine matrix\n",
    "    affine = img.affine\n",
    "    # Get image shape\n",
    "    shape = data.shape\n",
    "    # Get header information\n",
    "    header = img.header\n",
    "    # Extract voxel size (zoom) from the header\n",
    "    voxel_size = header.get_zooms()\n",
    "\n",
    "    # Extract any other relevant header information\n",
    "    data_type = header.get_data_dtype()  # Data type of the image\n",
    "    dim_info = header['dim']  # Dimension information (includes shape, data type, etc.)\n",
    "    pixdim = header['pixdim']  # Pixel dimensions\n",
    "    qform_code = header['qform_code']  # Qform information\n",
    "    sform_code = header['sform_code']  # Sform information\n",
    "\n",
    "    # Print all information\n",
    "    print(\"Image Shape:\", shape)\n",
    "    print(\"Affine Matrix:\\n\", affine)\n",
    "    print(\"Voxel Size (Zoom):\", voxel_size)\n",
    "    print(\"Data Type:\", data_type)\n",
    "    print(\"Dimension Info:\", dim_info)\n",
    "    print(\"Pixel Dimensions (pixdim):\", pixdim)\n",
    "    print(\"Qform Code:\", qform_code)\n",
    "    print(\"Sform Code:\", sform_code)\n"
   ]
  },
  {
   "cell_type": "code",
   "execution_count": 9,
   "metadata": {},
   "outputs": [
    {
     "name": "stdout",
     "output_type": "stream",
     "text": [
      "Image Shape: (133, 113, 189)\n",
      "Affine Matrix:\n",
      " [[ 9.97604311e-01  4.87278774e-02  4.91040573e-02 -1.40135498e+02]\n",
      " [-3.87489572e-02 -1.94414392e-01  9.80153859e-01 -1.81165329e+02]\n",
      " [ 5.73073514e-02 -9.79708433e-01 -1.92060485e-01  9.28858414e+01]\n",
      " [ 0.00000000e+00  0.00000000e+00  0.00000000e+00  1.00000000e+00]]\n",
      "Voxel Size (Zoom): (1.0, 1.0, 1.0)\n",
      "Data Type: uint8\n",
      "Dimension Info: [  3 133 113 189   1   1   1   1]\n",
      "Pixel Dimensions (pixdim): [1. 1. 1. 1. 0. 0. 0. 0.]\n",
      "Qform Code: 1\n",
      "Sform Code: 1\n"
     ]
    }
   ],
   "source": [
    "get_img_info(ct_image_path)"
   ]
  },
  {
   "cell_type": "code",
   "execution_count": 10,
   "metadata": {},
   "outputs": [
    {
     "name": "stdout",
     "output_type": "stream",
     "text": [
      "Image Shape: (147, 200, 135)\n",
      "Affine Matrix:\n",
      " [[  0.2          0.           0.         -14.60000038]\n",
      " [  0.           0.2          0.         -14.40000057]\n",
      " [  0.           0.           0.2         -3.60000014]\n",
      " [  0.           0.           0.           1.        ]]\n",
      "Voxel Size (Zoom): (0.2, 0.2, 0.2)\n",
      "Data Type: float32\n",
      "Dimension Info: [  3 147 200 135   1   1   1   1]\n",
      "Pixel Dimensions (pixdim): [1.  0.2 0.2 0.2 0.  0.  0.  0. ]\n",
      "Qform Code: 1\n",
      "Sform Code: 0\n"
     ]
    }
   ],
   "source": [
    "get_img_info(mri_template_path)"
   ]
  },
  {
   "cell_type": "code",
   "execution_count": null,
   "metadata": {},
   "outputs": [],
   "source": []
  }
 ],
 "metadata": {
  "kernelspec": {
   "display_name": "Python 3",
   "language": "python",
   "name": "python3"
  },
  "language_info": {
   "codemirror_mode": {
    "name": "ipython",
    "version": 3
   },
   "file_extension": ".py",
   "mimetype": "text/x-python",
   "name": "python",
   "nbconvert_exporter": "python",
   "pygments_lexer": "ipython3",
   "version": "3.10.14"
  }
 },
 "nbformat": 4,
 "nbformat_minor": 2
}
