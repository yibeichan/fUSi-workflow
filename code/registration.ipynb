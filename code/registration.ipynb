{
 "cells": [
  {
   "cell_type": "code",
   "execution_count": 20,
   "metadata": {},
   "outputs": [],
   "source": [
    "import os\n",
    "\n",
    "import nibabel as nib\n",
    "import numpy as np\n",
    "import ants\n",
    "from skimage.restoration import denoise_nl_means, estimate_sigma\n",
    "from skimage import exposure\n",
    "\n",
    "import matplotlib.pyplot as plt"
   ]
  },
  {
   "cell_type": "markdown",
   "metadata": {},
   "source": [
    "we use 3D slicer to read `.nii` file and then export it as `.nii.gz` which has clear coordinate information"
   ]
  },
  {
   "cell_type": "code",
   "execution_count": 26,
   "metadata": {},
   "outputs": [],
   "source": []
  },
  {
   "cell_type": "code",
   "execution_count": 62,
   "metadata": {},
   "outputs": [
    {
     "name": "stdout",
     "output_type": "stream",
     "text": [
      "(192, 151, 173)\n",
      "[[0.11    0.      0.      0.     ]\n",
      " [0.      0.2     0.      0.     ]\n",
      " [0.      0.      0.09856 0.     ]\n",
      " [0.      0.      0.      1.     ]]\n"
     ]
    }
   ],
   "source": [
    "file = \"/Users/yibeichen/Desktop/fusi_test_0725/fusi.nii.gz\"\n",
    "img = nib.load(file)\n",
    "data = img.get_fdata()\n",
    "\n",
    "print(data.shape)\n",
    "\n",
    "affine = img.affine\n",
    "\n",
    "# Create a transformation matrix to swap x and y axes in the affine matrix\n",
    "# This involves swapping the first and second columns of the affine matrix\n",
    "transform_matrix = np.array([[1, 0, 0, 0],\n",
    "                            [0, 1, 0, 0],\n",
    "                            [0, 0, -1, 0],\n",
    "                            [0, 0, 0, 1]])\n",
    "\n",
    "transformed_affine = affine @ transform_matrix\n",
    "print(transformed_affine) \n",
    "\n",
    "flipped_data = np.flip(data, axis=2)\n",
    "\n",
    "new_img = nib.Nifti1Image(flipped_data, transformed_affine, img.header)\n",
    "\n",
    "output_file = \"/Users/yibeichen/Desktop/fusi_test_0725/fusi_corrected.nii.gz\"\n",
    "# nib.save(new_img, output_file)"
   ]
  },
  {
   "cell_type": "code",
   "execution_count": 81,
   "metadata": {},
   "outputs": [
    {
     "name": "stderr",
     "output_type": "stream",
     "text": [
      "pixdim[1,2,3] should be positive; setting to abs of pixdim values\n"
     ]
    },
    {
     "data": {
      "text/plain": [
       "((192, 46, 183),\n",
       " array([[-0.11      ,  0.        ,  0.        , 10.50499994],\n",
       "        [ 0.        ,  0.2       ,  0.        , -4.50000007],\n",
       "        [ 0.        ,  0.        ,  0.09856   , -8.96895982],\n",
       "        [ 0.        ,  0.        ,  0.        ,  1.        ]]))"
      ]
     },
     "execution_count": 81,
     "metadata": {},
     "output_type": "execute_result"
    }
   ],
   "source": [
    "file = \"/Users/yibeichen/Desktop/fusi_test_0725/Charmander_3D.nii\"\n",
    "img = nib.load(file)\n",
    "data = img.get_fdata()\n",
    "\n",
    "data.shape,img.affine"
   ]
  },
  {
   "cell_type": "code",
   "execution_count": 85,
   "metadata": {},
   "outputs": [
    {
     "data": {
      "text/plain": [
       "((192, 46, 183),\n",
       " array([[ 0.11   ,  0.     ,  0.     , -0.     ],\n",
       "        [ 0.     ,  0.2    ,  0.     , -0.     ],\n",
       "        [ 0.     ,  0.     , -0.09856,  0.     ],\n",
       "        [ 0.     ,  0.     ,  0.     ,  1.     ]]),\n",
       " ('R', 'A', 'I'))"
      ]
     },
     "execution_count": 85,
     "metadata": {},
     "output_type": "execute_result"
    }
   ],
   "source": [
    "file = \"/Users/yibeichen/Desktop/fusi_test_0725/Charmander_3D.nii.gz\"\n",
    "img = nib.load(file)\n",
    "data = img.get_fdata()\n",
    "\n",
    "data.shape,img.affine, aff2axcodes(img.affine)"
   ]
  },
  {
   "cell_type": "code",
   "execution_count": 84,
   "metadata": {},
   "outputs": [
    {
     "data": {
      "text/plain": [
       "('R', 'A', 'I')"
      ]
     },
     "execution_count": 84,
     "metadata": {},
     "output_type": "execute_result"
    }
   ],
   "source": [
    "# correct orientation S/I\n"
   ]
  },
  {
   "cell_type": "code",
   "execution_count": 92,
   "metadata": {},
   "outputs": [
    {
     "name": "stdout",
     "output_type": "stream",
     "text": [
      "Corrected Affine:\n",
      " [[ 0.       0.2      0.      -0.     ]\n",
      " [ 0.11     0.       0.      -0.     ]\n",
      " [ 0.       0.      -0.09856  0.     ]\n",
      " [ 0.       0.       0.       1.     ]]\n",
      "('A', 'R', 'I')\n",
      "[[0.      0.2     0.      0.     ]\n",
      " [0.11    0.      0.      0.     ]\n",
      " [0.      0.      0.09856 0.     ]\n",
      " [0.      0.      0.      1.     ]]\n",
      "RAS Affine:\n",
      " [[0.11    0.      0.      0.     ]\n",
      " [0.      0.2     0.      0.     ]\n",
      " [0.      0.      0.09856 0.     ]\n",
      " [0.      0.      0.      1.     ]]\n",
      "(128, 37, 153)\n"
     ]
    }
   ],
   "source": [
    "file = \"/Users/yibeichen/Desktop/fusi/raw_data/Zion_3D.nii.gz\"\n",
    "img = nib.load(file)\n",
    "data = img.get_fdata()\n",
    "\n",
    "affine = img.affine\n",
    "\n",
    "corrected_affine = affine.copy()\n",
    "corrected_affine[[0, 1]] = corrected_affine[[1, 0]]\n",
    "\n",
    "print(\"Corrected Affine:\\n\", corrected_affine)\n",
    "print(aff2axcodes(corrected_affine))\n",
    "# reflect z to be positive\n",
    "transform_matrix = np.array([[1, 0, 0, 0],\n",
    "                            [0, 1, 0, 0],\n",
    "                            [0, 0, -1, 0],\n",
    "                            [0, 0, 0, 1]])\n",
    "\n",
    "transformed_affine = corrected_affine @ transform_matrix\n",
    "\n",
    "print(transformed_affine)\n",
    "\n",
    "# Create a new affine matrix for RAS orientation\n",
    "ras_affine = np.zeros_like(transformed_affine)\n",
    "\n",
    "# Copy the necessary elements to match RAS\n",
    "ras_affine[0, :] = transformed_affine[1, :]  # Right\n",
    "ras_affine[1, :] = transformed_affine[0, :]  # Anterior\n",
    "ras_affine[2, :] = transformed_affine[2, :]  # Superior\n",
    "\n",
    "# The last row should remain the same (for homogeneous coordinates)\n",
    "ras_affine[3, :] = transformed_affine[3, :]\n",
    "\n",
    "print(\"RAS Affine:\\n\", ras_affine)\n",
    "\n",
    "# flip A/P (data was wrong) and S/I(match transformed affine)\n",
    "flipped_data = np.flip(np.flip(np.flip(data, axis=0), axis=1), axis=2)\n",
    "# flipped_data = np.flip(np.flip(data, axis=0), axis=2)\n",
    "\n",
    "new_img = nib.Nifti1Image(flipped_data, transformed_affine, img.header)\n",
    "print(new_img.get_fdata().shape)\n",
    "\n",
    "output_file = \"/Users/yibeichen/Desktop/fusi/raw_data/Zion_3D_corrected.nii.gz\"\n",
    "# nib.save(new_img, output_file)"
   ]
  },
  {
   "cell_type": "code",
   "execution_count": 90,
   "metadata": {},
   "outputs": [
    {
     "name": "stdout",
     "output_type": "stream",
     "text": [
      "('R', 'A', 'S')\n",
      "(74, 200, 135)\n",
      "[[ 2.00000003e-01  0.00000000e+00 -0.00000000e+00 -1.63912773e-07]\n",
      " [ 0.00000000e+00  2.00000003e-01 -0.00000000e+00 -1.44000006e+01]\n",
      " [ 0.00000000e+00  0.00000000e+00  2.00000003e-01 -3.60000014e+00]\n",
      " [ 0.00000000e+00  0.00000000e+00  0.00000000e+00  1.00000000e+00]]\n"
     ]
    }
   ],
   "source": [
    "from nibabel.orientations import aff2axcodes\n",
    "\n",
    "# Load the NIfTI file\n",
    "nifti_path = \"/Users/yibeichen/Desktop/fusi_test_0725/fus2mri/fusi_corrected-transformed.nii.gz\"\n",
    "img = nib.load(nifti_path)\n",
    "data = img.get_fdata()\n",
    "affine = img.affine\n",
    "orientation = aff2axcodes(affine)\n",
    "print(orientation)\n",
    "\n",
    "# Determine the coordinates for the anterior right quarter\n",
    "x_mid = data.shape[0] // 2\n",
    "# y_mid = data.shape[1] // 2\n",
    "\n",
    "# Extract the anterior right quarter\n",
    "anterior_right_quarter = data[x_mid:, :, :]\n",
    "print(anterior_right_quarter.shape)\n",
    "\n",
    "new_affine = affine.copy()\n",
    "\n",
    "# Adjust the origin based on the new subvolume\n",
    "new_affine[0, 3] += x_mid * affine[0, 0]\n",
    "# new_affine[1, 3] += y_mid * affine[1, 1]\n",
    "\n",
    "print(new_affine)\n",
    "# # Create a new NIfTI image with the extracted data and adjusted affine\n",
    "new_img = nib.Nifti1Image(anterior_right_quarter, new_affine)\n",
    "\n",
    "# # Save the new NIfTI file\n",
    "new_nifti_path = \"/Users/yibeichen/Desktop/fusi_test_0725/fusi_corrected-transformed_R.nii.gz\"\n",
    "nib.save(new_img, new_nifti_path)\n",
    "\n",
    "# print(\"Anterior right quarter of the NIfTI file saved successfully.\")\n"
   ]
  },
  {
   "cell_type": "code",
   "execution_count": null,
   "metadata": {},
   "outputs": [],
   "source": []
  }
 ],
 "metadata": {
  "kernelspec": {
   "display_name": "neuroglancer",
   "language": "python",
   "name": "python3"
  },
  "language_info": {
   "codemirror_mode": {
    "name": "ipython",
    "version": 3
   },
   "file_extension": ".py",
   "mimetype": "text/x-python",
   "name": "python",
   "nbconvert_exporter": "python",
   "pygments_lexer": "ipython3",
   "version": "3.10.14"
  }
 },
 "nbformat": 4,
 "nbformat_minor": 2
}
