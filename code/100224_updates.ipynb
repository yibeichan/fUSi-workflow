{
 "cells": [
  {
   "cell_type": "code",
   "execution_count": 1,
   "metadata": {},
   "outputs": [],
   "source": [
    "import os\n",
    "from dotenv import load_dotenv\n",
    "import nibabel as nib\n",
    "from nibabel.orientations import aff2axcodes\n",
    "import h5py\n",
    "import pandas as pd\n",
    "import numpy as np\n",
    "from tqdm import tqdm\n",
    "\n",
    "from utils.registration import nifit_info, correct4registration, slice2chunk_align\n",
    "from utils.preproc import FUSCleaner\n",
    "\n",
    "from utils.glm import run_glm_analysis\n",
    "from nilearn.glm.contrasts import compute_contrast\n",
    "from scipy.ndimage import affine_transform\n",
    "import SimpleITK as sitk\n",
    "\n",
    "import seaborn as sns\n",
    "import matplotlib.pyplot as plt\n",
    "from matplotlib.colors import ListedColormap\n",
    "\n",
    "from joblib import Parallel, delayed"
   ]
  },
  {
   "cell_type": "code",
   "execution_count": 2,
   "metadata": {},
   "outputs": [],
   "source": [
    "load_dotenv()\n",
    "base_dir = os.getenv('BASE_DIR')\n",
    "task_dir = os.path.join(base_dir, 'task_data')\n",
    "data_dir = os.path.join(task_dir, 'audiocue_acrossday', 'grouper', '1002')\n",
    "register_dir = os.path.join(base_dir, 'slice2chunk_grouper', '100224_5-5')\n",
    "figure_dir = os.path.join(base_dir, 'figures')\n",
    "\n",
    "os.makedirs(figure_dir, exist_ok=True)"
   ]
  },
  {
   "cell_type": "code",
   "execution_count": 3,
   "metadata": {},
   "outputs": [
    {
     "name": "stderr",
     "output_type": "stream",
     "text": [
      "pixdim[1,2,3] should be positive; setting to abs of pixdim values\n"
     ]
    },
    {
     "data": {
      "text/plain": [
       "(((128, 1, 153, 9000),\n",
       "  array([[-0.11      ,  0.        ,  0.        ,  6.98499996],\n",
       "         [ 0.        ,  0.40000001,  0.        , -0.        ],\n",
       "         [ 0.        ,  0.        ,  0.09856   , -7.49055985],\n",
       "         [ 0.        ,  0.        ,  0.        ,  1.        ]]),\n",
       "  ('L', 'A', 'S')),\n",
       " ((128, 1, 153),\n",
       "  array([[ 0.11      ,  0.        ,  0.        , -0.        ],\n",
       "         [ 0.        ,  0.40000001,  0.        , -0.        ],\n",
       "         [ 0.        ,  0.        , -0.09856   ,  0.        ],\n",
       "         [ 0.        ,  0.        ,  0.        ,  1.        ]]),\n",
       "  ('R', 'A', 'I')))"
      ]
     },
     "execution_count": 3,
     "metadata": {},
     "output_type": "execute_result"
    }
   ],
   "source": [
    "raw_file = os.path.join(data_dir, 'Grouper_1002_audiocue_plane5.5_2Dscan_1.nii')\n",
    "raw_file2 = os.path.join(data_dir, 'Grouper_1002_audiocue_plane5.5_2Dscan_1.nii.gz')\n",
    "\n",
    "# correct 2D image for landmark registration\n",
    "# outfile = os.path.join(data_dir, 'Grouper_1002_audiocue_corrected.nii.gz')\n",
    "# correct4registration(raw_file2, outfile)\n",
    "nifit_info(raw_file), nifit_info(raw_file2)"
   ]
  },
  {
   "cell_type": "code",
   "execution_count": 6,
   "metadata": {},
   "outputs": [],
   "source": [
    "import nibabel as nib\n",
    "import numpy as np\n",
    "from nibabel.orientations import aff2axcodes\n",
    "\n",
    "def transform_and_correct(input_file, output_file):\n",
    "    img = nib.load(input_file)\n",
    "    data = img.get_fdata()\n",
    "    affine = img.affine\n",
    "\n",
    "    # Flip the x-axis (L-R flip)\n",
    "    data = np.flip(data, axis=0)\n",
    "\n",
    "    # Adjust the affine matrix\n",
    "    new_affine = affine.copy()\n",
    "    new_affine[0, 0] = -new_affine[0, 0]  # Flip x-axis\n",
    "    new_affine[0, 3] = 0  # Reset x translation to 0\n",
    "    new_affine[1, 3] = 0  # Reset y translation to 0\n",
    "    new_affine[2, 3] = 0  # Reset z translation to 0\n",
    "\n",
    "    # Swap x and y in the affine matrix\n",
    "    new_affine[[0, 1]] = new_affine[[1, 0]]\n",
    "\n",
    "    # Ensure z-axis is positive (for 'I' orientation)\n",
    "    if new_affine[2, 2] < 0:\n",
    "        new_affine[2, 2] = -new_affine[2, 2]\n",
    "        data = np.flip(data, axis=2)\n",
    "\n",
    "    print(\"Final Affine:\\n\", new_affine)\n",
    "    print(\"Orientation:\", aff2axcodes(new_affine))\n",
    "\n",
    "    # Create the final image\n",
    "    new_img = nib.Nifti1Image(data, new_affine, img.header)\n",
    "\n",
    "    # Save the transformed and corrected image\n",
    "    nib.save(new_img, output_file)\n",
    "\n",
    "    print(f\"Transformed and corrected image saved to: {output_file}\")"
   ]
  },
  {
   "cell_type": "code",
   "execution_count": 7,
   "metadata": {},
   "outputs": [
    {
     "name": "stderr",
     "output_type": "stream",
     "text": [
      "pixdim[1,2,3] should be positive; setting to abs of pixdim values\n"
     ]
    },
    {
     "name": "stdout",
     "output_type": "stream",
     "text": [
      "Final Affine:\n",
      " [[0.         0.40000001 0.         0.        ]\n",
      " [0.11       0.         0.         0.        ]\n",
      " [0.         0.         0.09856    0.        ]\n",
      " [0.         0.         0.         1.        ]]\n",
      "Orientation: ('A', 'R', 'S')\n"
     ]
    },
    {
     "name": "stderr",
     "output_type": "stream",
     "text": [
      "pixdim[1,2,3] should be positive; setting to abs of pixdim values\n"
     ]
    },
    {
     "name": "stdout",
     "output_type": "stream",
     "text": [
      "Transformed and corrected image saved to: /Users/yibeichen/Desktop/fusi/task_data/audiocue_acrossday/grouper/1002/Grouper_1002_audiocue_transformed_corrected.nii.gz\n",
      "\n",
      "Original image info:\n",
      "((128, 1, 153, 9000), array([[-0.11      ,  0.        ,  0.        ,  6.98499996],\n",
      "       [ 0.        ,  0.40000001,  0.        , -0.        ],\n",
      "       [ 0.        ,  0.        ,  0.09856   , -7.49055985],\n",
      "       [ 0.        ,  0.        ,  0.        ,  1.        ]]), ('L', 'A', 'S'))\n",
      "\n",
      "Transformed and corrected image info:\n",
      "((128, 1, 153, 9000), array([[0.        , 0.40000001, 0.        , 0.        ],\n",
      "       [0.11      , 0.        , 0.        , 0.        ],\n",
      "       [0.        , 0.        , 0.09856   , 0.        ],\n",
      "       [0.        , 0.        , 0.        , 1.        ]]), ('A', 'R', 'S'))\n"
     ]
    }
   ],
   "source": [
    "\n",
    "# Usage\n",
    "input_file = raw_file  # Use the path to your input file\n",
    "output_file = os.path.join(data_dir, 'Grouper_1002_audiocue_transformed_corrected.nii.gz')\n",
    "transform_and_correct(input_file, output_file)\n",
    "\n",
    "# Verify the transformation\n",
    "print(\"\\nOriginal image info:\")\n",
    "print(nifit_info(input_file))\n",
    "print(\"\\nTransformed and corrected image info:\")\n",
    "print(nifit_info(output_file))"
   ]
  },
  {
   "cell_type": "code",
   "execution_count": null,
   "metadata": {},
   "outputs": [],
   "source": []
  }
 ],
 "metadata": {
  "kernelspec": {
   "display_name": "Python 3",
   "language": "python",
   "name": "python3"
  },
  "language_info": {
   "codemirror_mode": {
    "name": "ipython",
    "version": 3
   },
   "file_extension": ".py",
   "mimetype": "text/x-python",
   "name": "python",
   "nbconvert_exporter": "python",
   "pygments_lexer": "ipython3",
   "version": "3.10.14"
  }
 },
 "nbformat": 4,
 "nbformat_minor": 2
}
